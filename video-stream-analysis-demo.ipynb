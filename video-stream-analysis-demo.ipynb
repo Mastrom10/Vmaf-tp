{
 "cells": [
  {
   "cell_type": "code",
   "execution_count": 1,
   "metadata": {},
   "outputs": [
    {
     "name": "stdout",
     "output_type": "stream",
     "text": [
      "/usr/local/bin/ffmpeg\n",
      "Done!\n"
     ]
    }
   ],
   "source": [
    "# Download a static FFmpeg build and add it to PATH.\n",
    "%run 'util/load-ffmpeg.ipynb'\n",
    "\n",
    "input_file = 'input.mp4'\n",
    "\n",
    "print('Done!')"
   ]
  },
  {
   "cell_type": "code",
   "execution_count": 31,
   "metadata": {
    "scrolled": true
   },
   "outputs": [
    {
     "data": {
      "text/html": [
       "\n",
       "<h3>Input video</h3>\n",
       "<video muted loop controls>\n",
       "  <source src=\"input.mp4\" type=\"video/mp4\">\n",
       "</video>"
      ],
      "text/plain": [
       "<IPython.core.display.HTML object>"
      ]
     },
     "execution_count": 31,
     "metadata": {},
     "output_type": "execute_result"
    }
   ],
   "source": [
    "from IPython.display import HTML\n",
    "HTML(\n",
    "\"\"\"\n",
    "<h3>Input video</h3>\n",
    "<video muted loop controls>\n",
    "  <source src=\"%s\" type=\"video/mp4\">\n",
    "</video>\"\"\" % input_file)"
   ]
  },
  {
   "cell_type": "code",
   "execution_count": 34,
   "metadata": {},
   "outputs": [
    {
     "data": {
      "application/vnd.plotly.v1+json": {
       "config": {
        "plotlyServerURL": "https://plot.ly"
       },
       "data": [
        {
         "alignmentgroup": "True",
         "hovertemplate": "type=I<br>frame index=%{x}<br>size (bytes)=%{y}<extra></extra>",
         "legendgroup": "I",
         "marker": {
          "color": "#636efa"
         },
         "name": "I",
         "offsetgroup": "I",
         "orientation": "v",
         "showlegend": true,
         "textposition": "auto",
         "type": "bar",
         "x": [
          0,
          78,
          228
         ],
         "xaxis": "x",
         "y": [
          52036,
          138019,
          72284
         ],
         "yaxis": "y"
        },
        {
         "alignmentgroup": "True",
         "hovertemplate": "type=B<br>frame index=%{x}<br>size (bytes)=%{y}<extra></extra>",
         "legendgroup": "B",
         "marker": {
          "color": "#EF553B"
         },
         "name": "B",
         "offsetgroup": "B",
         "orientation": "v",
         "showlegend": true,
         "textposition": "auto",
         "type": "bar",
         "x": [
          1,
          2,
          3,
          5,
          6,
          7,
          9,
          10,
          11,
          13,
          14,
          16,
          17,
          18,
          20,
          21,
          22,
          24,
          25,
          26,
          28,
          29,
          30,
          32,
          33,
          34,
          36,
          37,
          38,
          40,
          41,
          42,
          44,
          45,
          46,
          48,
          49,
          50,
          52,
          53,
          54,
          56,
          57,
          58,
          60,
          61,
          62,
          64,
          65,
          66,
          68,
          69,
          70,
          72,
          73,
          74,
          76,
          79,
          80,
          81,
          83,
          84,
          85,
          87,
          88,
          89,
          91,
          92,
          93,
          95,
          96,
          97,
          99,
          100,
          101,
          103,
          104,
          105,
          107,
          108,
          109,
          111,
          112,
          113,
          115,
          116,
          117,
          119,
          120,
          121,
          123,
          124,
          125,
          127,
          128,
          129,
          131,
          132,
          133,
          135,
          136,
          137,
          139,
          140,
          141,
          143,
          144,
          145,
          147,
          148,
          149,
          151,
          152,
          153,
          155,
          156,
          157,
          159,
          160,
          161,
          163,
          164,
          165,
          167,
          168,
          169,
          171,
          172,
          173,
          175,
          176,
          177,
          179,
          180,
          181,
          183,
          184,
          185,
          187,
          188,
          189,
          191,
          192,
          193,
          195,
          196,
          197,
          199,
          200,
          201,
          203,
          204,
          205,
          207,
          208,
          209,
          211,
          212,
          213,
          215,
          216,
          217,
          219,
          220,
          221,
          223,
          224,
          225,
          229,
          230,
          231,
          233,
          234,
          235,
          237,
          238
         ],
         "xaxis": "x",
         "y": [
          1346,
          2317,
          1276,
          1443,
          2591,
          1396,
          1771,
          3361,
          1710,
          2199,
          1851,
          2143,
          3356,
          1901,
          1760,
          3488,
          1831,
          1496,
          2463,
          1384,
          1546,
          2810,
          1581,
          1597,
          3023,
          1656,
          1794,
          3160,
          1589,
          1595,
          2901,
          1571,
          1374,
          2450,
          1402,
          1254,
          2020,
          1165,
          1081,
          1544,
          901,
          795,
          990,
          694,
          767,
          1377,
          592,
          428,
          976,
          518,
          507,
          816,
          594,
          537,
          1335,
          501,
          442,
          1262,
          3741,
          1407,
          1333,
          4503,
          1363,
          1537,
          4842,
          1414,
          1242,
          4211,
          1269,
          1331,
          4801,
          1488,
          1147,
          3957,
          1299,
          1078,
          3570,
          1123,
          1134,
          4357,
          1115,
          1248,
          4754,
          1120,
          1334,
          4427,
          1382,
          1351,
          4304,
          1302,
          1300,
          4035,
          1279,
          1293,
          4341,
          1325,
          1531,
          5329,
          1493,
          1672,
          5749,
          1778,
          1278,
          4013,
          1467,
          1307,
          4178,
          1311,
          1548,
          5272,
          1684,
          1937,
          5209,
          1574,
          1273,
          4185,
          1355,
          1249,
          3903,
          1066,
          1323,
          4636,
          1320,
          1311,
          4222,
          1214,
          1189,
          4215,
          1223,
          1082,
          4380,
          1191,
          1027,
          4333,
          1414,
          1408,
          4009,
          1431,
          1456,
          4188,
          1531,
          1385,
          4893,
          1251,
          1196,
          4333,
          1178,
          1043,
          3411,
          912,
          950,
          4058,
          1041,
          1003,
          3540,
          1205,
          1237,
          4444,
          1278,
          992,
          4975,
          1142,
          1080,
          3704,
          1118,
          1136,
          4418,
          1226,
          2505,
          2932,
          2975,
          2454,
          4149,
          2899,
          3714,
          2448
         ],
         "yaxis": "y"
        },
        {
         "alignmentgroup": "True",
         "hovertemplate": "type=P<br>frame index=%{x}<br>size (bytes)=%{y}<extra></extra>",
         "legendgroup": "P",
         "marker": {
          "color": "#00cc96"
         },
         "name": "P",
         "offsetgroup": "P",
         "orientation": "v",
         "showlegend": true,
         "textposition": "auto",
         "type": "bar",
         "x": [
          4,
          8,
          12,
          15,
          19,
          23,
          27,
          31,
          35,
          39,
          43,
          47,
          51,
          55,
          59,
          63,
          67,
          71,
          75,
          77,
          82,
          86,
          90,
          94,
          98,
          102,
          106,
          110,
          114,
          118,
          122,
          126,
          130,
          134,
          138,
          142,
          146,
          150,
          154,
          158,
          162,
          166,
          170,
          174,
          178,
          182,
          186,
          190,
          194,
          198,
          202,
          206,
          210,
          214,
          218,
          222,
          226,
          227,
          232,
          236,
          239
         ],
         "xaxis": "x",
         "y": [
          11370,
          11184,
          16168,
          13964,
          16923,
          18842,
          11865,
          12097,
          11356,
          15780,
          14583,
          13999,
          14630,
          13082,
          9466,
          9642,
          5828,
          4968,
          2371,
          1077,
          34951,
          39437,
          42629,
          39447,
          40539,
          43735,
          39841,
          41330,
          42047,
          43961,
          40496,
          42114,
          44824,
          41948,
          46491,
          38426,
          40606,
          42589,
          47850,
          39269,
          38843,
          48245,
          41385,
          41000,
          46160,
          39243,
          39520,
          41113,
          43481,
          39284,
          37215,
          39998,
          33741,
          34041,
          33034,
          21118,
          11906,
          3511,
          13225,
          10195,
          4390
         ],
         "yaxis": "y"
        }
       ],
       "layout": {
        "barmode": "relative",
        "legend": {
         "title": {
          "text": "type"
         },
         "tracegroupgap": 0
        },
        "margin": {
         "t": 60
        },
        "template": {
         "data": {
          "bar": [
           {
            "error_x": {
             "color": "#2a3f5f"
            },
            "error_y": {
             "color": "#2a3f5f"
            },
            "marker": {
             "line": {
              "color": "#E5ECF6",
              "width": 0.5
             }
            },
            "type": "bar"
           }
          ],
          "barpolar": [
           {
            "marker": {
             "line": {
              "color": "#E5ECF6",
              "width": 0.5
             }
            },
            "type": "barpolar"
           }
          ],
          "carpet": [
           {
            "aaxis": {
             "endlinecolor": "#2a3f5f",
             "gridcolor": "white",
             "linecolor": "white",
             "minorgridcolor": "white",
             "startlinecolor": "#2a3f5f"
            },
            "baxis": {
             "endlinecolor": "#2a3f5f",
             "gridcolor": "white",
             "linecolor": "white",
             "minorgridcolor": "white",
             "startlinecolor": "#2a3f5f"
            },
            "type": "carpet"
           }
          ],
          "choropleth": [
           {
            "colorbar": {
             "outlinewidth": 0,
             "ticks": ""
            },
            "type": "choropleth"
           }
          ],
          "contour": [
           {
            "colorbar": {
             "outlinewidth": 0,
             "ticks": ""
            },
            "colorscale": [
             [
              0,
              "#0d0887"
             ],
             [
              0.1111111111111111,
              "#46039f"
             ],
             [
              0.2222222222222222,
              "#7201a8"
             ],
             [
              0.3333333333333333,
              "#9c179e"
             ],
             [
              0.4444444444444444,
              "#bd3786"
             ],
             [
              0.5555555555555556,
              "#d8576b"
             ],
             [
              0.6666666666666666,
              "#ed7953"
             ],
             [
              0.7777777777777778,
              "#fb9f3a"
             ],
             [
              0.8888888888888888,
              "#fdca26"
             ],
             [
              1,
              "#f0f921"
             ]
            ],
            "type": "contour"
           }
          ],
          "contourcarpet": [
           {
            "colorbar": {
             "outlinewidth": 0,
             "ticks": ""
            },
            "type": "contourcarpet"
           }
          ],
          "heatmap": [
           {
            "colorbar": {
             "outlinewidth": 0,
             "ticks": ""
            },
            "colorscale": [
             [
              0,
              "#0d0887"
             ],
             [
              0.1111111111111111,
              "#46039f"
             ],
             [
              0.2222222222222222,
              "#7201a8"
             ],
             [
              0.3333333333333333,
              "#9c179e"
             ],
             [
              0.4444444444444444,
              "#bd3786"
             ],
             [
              0.5555555555555556,
              "#d8576b"
             ],
             [
              0.6666666666666666,
              "#ed7953"
             ],
             [
              0.7777777777777778,
              "#fb9f3a"
             ],
             [
              0.8888888888888888,
              "#fdca26"
             ],
             [
              1,
              "#f0f921"
             ]
            ],
            "type": "heatmap"
           }
          ],
          "heatmapgl": [
           {
            "colorbar": {
             "outlinewidth": 0,
             "ticks": ""
            },
            "colorscale": [
             [
              0,
              "#0d0887"
             ],
             [
              0.1111111111111111,
              "#46039f"
             ],
             [
              0.2222222222222222,
              "#7201a8"
             ],
             [
              0.3333333333333333,
              "#9c179e"
             ],
             [
              0.4444444444444444,
              "#bd3786"
             ],
             [
              0.5555555555555556,
              "#d8576b"
             ],
             [
              0.6666666666666666,
              "#ed7953"
             ],
             [
              0.7777777777777778,
              "#fb9f3a"
             ],
             [
              0.8888888888888888,
              "#fdca26"
             ],
             [
              1,
              "#f0f921"
             ]
            ],
            "type": "heatmapgl"
           }
          ],
          "histogram": [
           {
            "marker": {
             "colorbar": {
              "outlinewidth": 0,
              "ticks": ""
             }
            },
            "type": "histogram"
           }
          ],
          "histogram2d": [
           {
            "colorbar": {
             "outlinewidth": 0,
             "ticks": ""
            },
            "colorscale": [
             [
              0,
              "#0d0887"
             ],
             [
              0.1111111111111111,
              "#46039f"
             ],
             [
              0.2222222222222222,
              "#7201a8"
             ],
             [
              0.3333333333333333,
              "#9c179e"
             ],
             [
              0.4444444444444444,
              "#bd3786"
             ],
             [
              0.5555555555555556,
              "#d8576b"
             ],
             [
              0.6666666666666666,
              "#ed7953"
             ],
             [
              0.7777777777777778,
              "#fb9f3a"
             ],
             [
              0.8888888888888888,
              "#fdca26"
             ],
             [
              1,
              "#f0f921"
             ]
            ],
            "type": "histogram2d"
           }
          ],
          "histogram2dcontour": [
           {
            "colorbar": {
             "outlinewidth": 0,
             "ticks": ""
            },
            "colorscale": [
             [
              0,
              "#0d0887"
             ],
             [
              0.1111111111111111,
              "#46039f"
             ],
             [
              0.2222222222222222,
              "#7201a8"
             ],
             [
              0.3333333333333333,
              "#9c179e"
             ],
             [
              0.4444444444444444,
              "#bd3786"
             ],
             [
              0.5555555555555556,
              "#d8576b"
             ],
             [
              0.6666666666666666,
              "#ed7953"
             ],
             [
              0.7777777777777778,
              "#fb9f3a"
             ],
             [
              0.8888888888888888,
              "#fdca26"
             ],
             [
              1,
              "#f0f921"
             ]
            ],
            "type": "histogram2dcontour"
           }
          ],
          "mesh3d": [
           {
            "colorbar": {
             "outlinewidth": 0,
             "ticks": ""
            },
            "type": "mesh3d"
           }
          ],
          "parcoords": [
           {
            "line": {
             "colorbar": {
              "outlinewidth": 0,
              "ticks": ""
             }
            },
            "type": "parcoords"
           }
          ],
          "pie": [
           {
            "automargin": true,
            "type": "pie"
           }
          ],
          "scatter": [
           {
            "marker": {
             "colorbar": {
              "outlinewidth": 0,
              "ticks": ""
             }
            },
            "type": "scatter"
           }
          ],
          "scatter3d": [
           {
            "line": {
             "colorbar": {
              "outlinewidth": 0,
              "ticks": ""
             }
            },
            "marker": {
             "colorbar": {
              "outlinewidth": 0,
              "ticks": ""
             }
            },
            "type": "scatter3d"
           }
          ],
          "scattercarpet": [
           {
            "marker": {
             "colorbar": {
              "outlinewidth": 0,
              "ticks": ""
             }
            },
            "type": "scattercarpet"
           }
          ],
          "scattergeo": [
           {
            "marker": {
             "colorbar": {
              "outlinewidth": 0,
              "ticks": ""
             }
            },
            "type": "scattergeo"
           }
          ],
          "scattergl": [
           {
            "marker": {
             "colorbar": {
              "outlinewidth": 0,
              "ticks": ""
             }
            },
            "type": "scattergl"
           }
          ],
          "scattermapbox": [
           {
            "marker": {
             "colorbar": {
              "outlinewidth": 0,
              "ticks": ""
             }
            },
            "type": "scattermapbox"
           }
          ],
          "scatterpolar": [
           {
            "marker": {
             "colorbar": {
              "outlinewidth": 0,
              "ticks": ""
             }
            },
            "type": "scatterpolar"
           }
          ],
          "scatterpolargl": [
           {
            "marker": {
             "colorbar": {
              "outlinewidth": 0,
              "ticks": ""
             }
            },
            "type": "scatterpolargl"
           }
          ],
          "scatterternary": [
           {
            "marker": {
             "colorbar": {
              "outlinewidth": 0,
              "ticks": ""
             }
            },
            "type": "scatterternary"
           }
          ],
          "surface": [
           {
            "colorbar": {
             "outlinewidth": 0,
             "ticks": ""
            },
            "colorscale": [
             [
              0,
              "#0d0887"
             ],
             [
              0.1111111111111111,
              "#46039f"
             ],
             [
              0.2222222222222222,
              "#7201a8"
             ],
             [
              0.3333333333333333,
              "#9c179e"
             ],
             [
              0.4444444444444444,
              "#bd3786"
             ],
             [
              0.5555555555555556,
              "#d8576b"
             ],
             [
              0.6666666666666666,
              "#ed7953"
             ],
             [
              0.7777777777777778,
              "#fb9f3a"
             ],
             [
              0.8888888888888888,
              "#fdca26"
             ],
             [
              1,
              "#f0f921"
             ]
            ],
            "type": "surface"
           }
          ],
          "table": [
           {
            "cells": {
             "fill": {
              "color": "#EBF0F8"
             },
             "line": {
              "color": "white"
             }
            },
            "header": {
             "fill": {
              "color": "#C8D4E3"
             },
             "line": {
              "color": "white"
             }
            },
            "type": "table"
           }
          ]
         },
         "layout": {
          "annotationdefaults": {
           "arrowcolor": "#2a3f5f",
           "arrowhead": 0,
           "arrowwidth": 1
          },
          "coloraxis": {
           "colorbar": {
            "outlinewidth": 0,
            "ticks": ""
           }
          },
          "colorscale": {
           "diverging": [
            [
             0,
             "#8e0152"
            ],
            [
             0.1,
             "#c51b7d"
            ],
            [
             0.2,
             "#de77ae"
            ],
            [
             0.3,
             "#f1b6da"
            ],
            [
             0.4,
             "#fde0ef"
            ],
            [
             0.5,
             "#f7f7f7"
            ],
            [
             0.6,
             "#e6f5d0"
            ],
            [
             0.7,
             "#b8e186"
            ],
            [
             0.8,
             "#7fbc41"
            ],
            [
             0.9,
             "#4d9221"
            ],
            [
             1,
             "#276419"
            ]
           ],
           "sequential": [
            [
             0,
             "#0d0887"
            ],
            [
             0.1111111111111111,
             "#46039f"
            ],
            [
             0.2222222222222222,
             "#7201a8"
            ],
            [
             0.3333333333333333,
             "#9c179e"
            ],
            [
             0.4444444444444444,
             "#bd3786"
            ],
            [
             0.5555555555555556,
             "#d8576b"
            ],
            [
             0.6666666666666666,
             "#ed7953"
            ],
            [
             0.7777777777777778,
             "#fb9f3a"
            ],
            [
             0.8888888888888888,
             "#fdca26"
            ],
            [
             1,
             "#f0f921"
            ]
           ],
           "sequentialminus": [
            [
             0,
             "#0d0887"
            ],
            [
             0.1111111111111111,
             "#46039f"
            ],
            [
             0.2222222222222222,
             "#7201a8"
            ],
            [
             0.3333333333333333,
             "#9c179e"
            ],
            [
             0.4444444444444444,
             "#bd3786"
            ],
            [
             0.5555555555555556,
             "#d8576b"
            ],
            [
             0.6666666666666666,
             "#ed7953"
            ],
            [
             0.7777777777777778,
             "#fb9f3a"
            ],
            [
             0.8888888888888888,
             "#fdca26"
            ],
            [
             1,
             "#f0f921"
            ]
           ]
          },
          "colorway": [
           "#636efa",
           "#EF553B",
           "#00cc96",
           "#ab63fa",
           "#FFA15A",
           "#19d3f3",
           "#FF6692",
           "#B6E880",
           "#FF97FF",
           "#FECB52"
          ],
          "font": {
           "color": "#2a3f5f"
          },
          "geo": {
           "bgcolor": "white",
           "lakecolor": "white",
           "landcolor": "#E5ECF6",
           "showlakes": true,
           "showland": true,
           "subunitcolor": "white"
          },
          "hoverlabel": {
           "align": "left"
          },
          "hovermode": "closest",
          "mapbox": {
           "style": "light"
          },
          "paper_bgcolor": "white",
          "plot_bgcolor": "#E5ECF6",
          "polar": {
           "angularaxis": {
            "gridcolor": "white",
            "linecolor": "white",
            "ticks": ""
           },
           "bgcolor": "#E5ECF6",
           "radialaxis": {
            "gridcolor": "white",
            "linecolor": "white",
            "ticks": ""
           }
          },
          "scene": {
           "xaxis": {
            "backgroundcolor": "#E5ECF6",
            "gridcolor": "white",
            "gridwidth": 2,
            "linecolor": "white",
            "showbackground": true,
            "ticks": "",
            "zerolinecolor": "white"
           },
           "yaxis": {
            "backgroundcolor": "#E5ECF6",
            "gridcolor": "white",
            "gridwidth": 2,
            "linecolor": "white",
            "showbackground": true,
            "ticks": "",
            "zerolinecolor": "white"
           },
           "zaxis": {
            "backgroundcolor": "#E5ECF6",
            "gridcolor": "white",
            "gridwidth": 2,
            "linecolor": "white",
            "showbackground": true,
            "ticks": "",
            "zerolinecolor": "white"
           }
          },
          "shapedefaults": {
           "line": {
            "color": "#2a3f5f"
           }
          },
          "ternary": {
           "aaxis": {
            "gridcolor": "white",
            "linecolor": "white",
            "ticks": ""
           },
           "baxis": {
            "gridcolor": "white",
            "linecolor": "white",
            "ticks": ""
           },
           "bgcolor": "#E5ECF6",
           "caxis": {
            "gridcolor": "white",
            "linecolor": "white",
            "ticks": ""
           }
          },
          "title": {
           "x": 0.05
          },
          "xaxis": {
           "automargin": true,
           "gridcolor": "white",
           "linecolor": "white",
           "ticks": "",
           "title": {
            "standoff": 15
           },
           "zerolinecolor": "white",
           "zerolinewidth": 2
          },
          "yaxis": {
           "automargin": true,
           "gridcolor": "white",
           "linecolor": "white",
           "ticks": "",
           "title": {
            "standoff": 15
           },
           "zerolinecolor": "white",
           "zerolinewidth": 2
          }
         }
        },
        "xaxis": {
         "anchor": "y",
         "domain": [
          0,
          1
         ],
         "title": {
          "text": "frame index"
         }
        },
        "yaxis": {
         "anchor": "x",
         "domain": [
          0,
          1
         ],
         "title": {
          "text": "size (bytes)"
         }
        }
       }
      },
      "text/html": [
       "<div>\n",
       "        \n",
       "        \n",
       "            <div id=\"4fa0b537-167a-45e2-8681-c13a93447788\" class=\"plotly-graph-div\" style=\"height:525px; width:100%;\"></div>\n",
       "            <script type=\"text/javascript\">\n",
       "                require([\"plotly\"], function(Plotly) {\n",
       "                    window.PLOTLYENV=window.PLOTLYENV || {};\n",
       "                    \n",
       "                if (document.getElementById(\"4fa0b537-167a-45e2-8681-c13a93447788\")) {\n",
       "                    Plotly.newPlot(\n",
       "                        '4fa0b537-167a-45e2-8681-c13a93447788',\n",
       "                        [{\"alignmentgroup\": \"True\", \"hovertemplate\": \"type=I<br>frame index=%{x}<br>size (bytes)=%{y}<extra></extra>\", \"legendgroup\": \"I\", \"marker\": {\"color\": \"#636efa\"}, \"name\": \"I\", \"offsetgroup\": \"I\", \"orientation\": \"v\", \"showlegend\": true, \"textposition\": \"auto\", \"type\": \"bar\", \"x\": [0, 78, 228], \"xaxis\": \"x\", \"y\": [52036, 138019, 72284], \"yaxis\": \"y\"}, {\"alignmentgroup\": \"True\", \"hovertemplate\": \"type=B<br>frame index=%{x}<br>size (bytes)=%{y}<extra></extra>\", \"legendgroup\": \"B\", \"marker\": {\"color\": \"#EF553B\"}, \"name\": \"B\", \"offsetgroup\": \"B\", \"orientation\": \"v\", \"showlegend\": true, \"textposition\": \"auto\", \"type\": \"bar\", \"x\": [1, 2, 3, 5, 6, 7, 9, 10, 11, 13, 14, 16, 17, 18, 20, 21, 22, 24, 25, 26, 28, 29, 30, 32, 33, 34, 36, 37, 38, 40, 41, 42, 44, 45, 46, 48, 49, 50, 52, 53, 54, 56, 57, 58, 60, 61, 62, 64, 65, 66, 68, 69, 70, 72, 73, 74, 76, 79, 80, 81, 83, 84, 85, 87, 88, 89, 91, 92, 93, 95, 96, 97, 99, 100, 101, 103, 104, 105, 107, 108, 109, 111, 112, 113, 115, 116, 117, 119, 120, 121, 123, 124, 125, 127, 128, 129, 131, 132, 133, 135, 136, 137, 139, 140, 141, 143, 144, 145, 147, 148, 149, 151, 152, 153, 155, 156, 157, 159, 160, 161, 163, 164, 165, 167, 168, 169, 171, 172, 173, 175, 176, 177, 179, 180, 181, 183, 184, 185, 187, 188, 189, 191, 192, 193, 195, 196, 197, 199, 200, 201, 203, 204, 205, 207, 208, 209, 211, 212, 213, 215, 216, 217, 219, 220, 221, 223, 224, 225, 229, 230, 231, 233, 234, 235, 237, 238], \"xaxis\": \"x\", \"y\": [1346, 2317, 1276, 1443, 2591, 1396, 1771, 3361, 1710, 2199, 1851, 2143, 3356, 1901, 1760, 3488, 1831, 1496, 2463, 1384, 1546, 2810, 1581, 1597, 3023, 1656, 1794, 3160, 1589, 1595, 2901, 1571, 1374, 2450, 1402, 1254, 2020, 1165, 1081, 1544, 901, 795, 990, 694, 767, 1377, 592, 428, 976, 518, 507, 816, 594, 537, 1335, 501, 442, 1262, 3741, 1407, 1333, 4503, 1363, 1537, 4842, 1414, 1242, 4211, 1269, 1331, 4801, 1488, 1147, 3957, 1299, 1078, 3570, 1123, 1134, 4357, 1115, 1248, 4754, 1120, 1334, 4427, 1382, 1351, 4304, 1302, 1300, 4035, 1279, 1293, 4341, 1325, 1531, 5329, 1493, 1672, 5749, 1778, 1278, 4013, 1467, 1307, 4178, 1311, 1548, 5272, 1684, 1937, 5209, 1574, 1273, 4185, 1355, 1249, 3903, 1066, 1323, 4636, 1320, 1311, 4222, 1214, 1189, 4215, 1223, 1082, 4380, 1191, 1027, 4333, 1414, 1408, 4009, 1431, 1456, 4188, 1531, 1385, 4893, 1251, 1196, 4333, 1178, 1043, 3411, 912, 950, 4058, 1041, 1003, 3540, 1205, 1237, 4444, 1278, 992, 4975, 1142, 1080, 3704, 1118, 1136, 4418, 1226, 2505, 2932, 2975, 2454, 4149, 2899, 3714, 2448], \"yaxis\": \"y\"}, {\"alignmentgroup\": \"True\", \"hovertemplate\": \"type=P<br>frame index=%{x}<br>size (bytes)=%{y}<extra></extra>\", \"legendgroup\": \"P\", \"marker\": {\"color\": \"#00cc96\"}, \"name\": \"P\", \"offsetgroup\": \"P\", \"orientation\": \"v\", \"showlegend\": true, \"textposition\": \"auto\", \"type\": \"bar\", \"x\": [4, 8, 12, 15, 19, 23, 27, 31, 35, 39, 43, 47, 51, 55, 59, 63, 67, 71, 75, 77, 82, 86, 90, 94, 98, 102, 106, 110, 114, 118, 122, 126, 130, 134, 138, 142, 146, 150, 154, 158, 162, 166, 170, 174, 178, 182, 186, 190, 194, 198, 202, 206, 210, 214, 218, 222, 226, 227, 232, 236, 239], \"xaxis\": \"x\", \"y\": [11370, 11184, 16168, 13964, 16923, 18842, 11865, 12097, 11356, 15780, 14583, 13999, 14630, 13082, 9466, 9642, 5828, 4968, 2371, 1077, 34951, 39437, 42629, 39447, 40539, 43735, 39841, 41330, 42047, 43961, 40496, 42114, 44824, 41948, 46491, 38426, 40606, 42589, 47850, 39269, 38843, 48245, 41385, 41000, 46160, 39243, 39520, 41113, 43481, 39284, 37215, 39998, 33741, 34041, 33034, 21118, 11906, 3511, 13225, 10195, 4390], \"yaxis\": \"y\"}],\n",
       "                        {\"barmode\": \"relative\", \"legend\": {\"title\": {\"text\": \"type\"}, \"tracegroupgap\": 0}, \"margin\": {\"t\": 60}, \"template\": {\"data\": {\"bar\": [{\"error_x\": {\"color\": \"#2a3f5f\"}, \"error_y\": {\"color\": \"#2a3f5f\"}, \"marker\": {\"line\": {\"color\": \"#E5ECF6\", \"width\": 0.5}}, \"type\": \"bar\"}], \"barpolar\": [{\"marker\": {\"line\": {\"color\": \"#E5ECF6\", \"width\": 0.5}}, \"type\": \"barpolar\"}], \"carpet\": [{\"aaxis\": {\"endlinecolor\": \"#2a3f5f\", \"gridcolor\": \"white\", \"linecolor\": \"white\", \"minorgridcolor\": \"white\", \"startlinecolor\": \"#2a3f5f\"}, \"baxis\": {\"endlinecolor\": \"#2a3f5f\", \"gridcolor\": \"white\", \"linecolor\": \"white\", \"minorgridcolor\": \"white\", \"startlinecolor\": \"#2a3f5f\"}, \"type\": \"carpet\"}], \"choropleth\": [{\"colorbar\": {\"outlinewidth\": 0, \"ticks\": \"\"}, \"type\": \"choropleth\"}], \"contour\": [{\"colorbar\": {\"outlinewidth\": 0, \"ticks\": \"\"}, \"colorscale\": [[0.0, \"#0d0887\"], [0.1111111111111111, \"#46039f\"], [0.2222222222222222, \"#7201a8\"], [0.3333333333333333, \"#9c179e\"], [0.4444444444444444, \"#bd3786\"], [0.5555555555555556, \"#d8576b\"], [0.6666666666666666, \"#ed7953\"], [0.7777777777777778, \"#fb9f3a\"], [0.8888888888888888, \"#fdca26\"], [1.0, \"#f0f921\"]], \"type\": \"contour\"}], \"contourcarpet\": [{\"colorbar\": {\"outlinewidth\": 0, \"ticks\": \"\"}, \"type\": \"contourcarpet\"}], \"heatmap\": [{\"colorbar\": {\"outlinewidth\": 0, \"ticks\": \"\"}, \"colorscale\": [[0.0, \"#0d0887\"], [0.1111111111111111, \"#46039f\"], [0.2222222222222222, \"#7201a8\"], [0.3333333333333333, \"#9c179e\"], [0.4444444444444444, \"#bd3786\"], [0.5555555555555556, \"#d8576b\"], [0.6666666666666666, \"#ed7953\"], [0.7777777777777778, \"#fb9f3a\"], [0.8888888888888888, \"#fdca26\"], [1.0, \"#f0f921\"]], \"type\": \"heatmap\"}], \"heatmapgl\": [{\"colorbar\": {\"outlinewidth\": 0, \"ticks\": \"\"}, \"colorscale\": [[0.0, \"#0d0887\"], [0.1111111111111111, \"#46039f\"], [0.2222222222222222, \"#7201a8\"], [0.3333333333333333, \"#9c179e\"], [0.4444444444444444, \"#bd3786\"], [0.5555555555555556, \"#d8576b\"], [0.6666666666666666, \"#ed7953\"], [0.7777777777777778, \"#fb9f3a\"], [0.8888888888888888, \"#fdca26\"], [1.0, \"#f0f921\"]], \"type\": \"heatmapgl\"}], \"histogram\": [{\"marker\": {\"colorbar\": {\"outlinewidth\": 0, \"ticks\": \"\"}}, \"type\": \"histogram\"}], \"histogram2d\": [{\"colorbar\": {\"outlinewidth\": 0, \"ticks\": \"\"}, \"colorscale\": [[0.0, \"#0d0887\"], [0.1111111111111111, \"#46039f\"], [0.2222222222222222, \"#7201a8\"], [0.3333333333333333, \"#9c179e\"], [0.4444444444444444, \"#bd3786\"], [0.5555555555555556, \"#d8576b\"], [0.6666666666666666, \"#ed7953\"], [0.7777777777777778, \"#fb9f3a\"], [0.8888888888888888, \"#fdca26\"], [1.0, \"#f0f921\"]], \"type\": \"histogram2d\"}], \"histogram2dcontour\": [{\"colorbar\": {\"outlinewidth\": 0, \"ticks\": \"\"}, \"colorscale\": [[0.0, \"#0d0887\"], [0.1111111111111111, \"#46039f\"], [0.2222222222222222, \"#7201a8\"], [0.3333333333333333, \"#9c179e\"], [0.4444444444444444, \"#bd3786\"], [0.5555555555555556, \"#d8576b\"], [0.6666666666666666, \"#ed7953\"], [0.7777777777777778, \"#fb9f3a\"], [0.8888888888888888, \"#fdca26\"], [1.0, \"#f0f921\"]], \"type\": \"histogram2dcontour\"}], \"mesh3d\": [{\"colorbar\": {\"outlinewidth\": 0, \"ticks\": \"\"}, \"type\": \"mesh3d\"}], \"parcoords\": [{\"line\": {\"colorbar\": {\"outlinewidth\": 0, \"ticks\": \"\"}}, \"type\": \"parcoords\"}], \"pie\": [{\"automargin\": true, \"type\": \"pie\"}], \"scatter\": [{\"marker\": {\"colorbar\": {\"outlinewidth\": 0, \"ticks\": \"\"}}, \"type\": \"scatter\"}], \"scatter3d\": [{\"line\": {\"colorbar\": {\"outlinewidth\": 0, \"ticks\": \"\"}}, \"marker\": {\"colorbar\": {\"outlinewidth\": 0, \"ticks\": \"\"}}, \"type\": \"scatter3d\"}], \"scattercarpet\": [{\"marker\": {\"colorbar\": {\"outlinewidth\": 0, \"ticks\": \"\"}}, \"type\": \"scattercarpet\"}], \"scattergeo\": [{\"marker\": {\"colorbar\": {\"outlinewidth\": 0, \"ticks\": \"\"}}, \"type\": \"scattergeo\"}], \"scattergl\": [{\"marker\": {\"colorbar\": {\"outlinewidth\": 0, \"ticks\": \"\"}}, \"type\": \"scattergl\"}], \"scattermapbox\": [{\"marker\": {\"colorbar\": {\"outlinewidth\": 0, \"ticks\": \"\"}}, \"type\": \"scattermapbox\"}], \"scatterpolar\": [{\"marker\": {\"colorbar\": {\"outlinewidth\": 0, \"ticks\": \"\"}}, \"type\": \"scatterpolar\"}], \"scatterpolargl\": [{\"marker\": {\"colorbar\": {\"outlinewidth\": 0, \"ticks\": \"\"}}, \"type\": \"scatterpolargl\"}], \"scatterternary\": [{\"marker\": {\"colorbar\": {\"outlinewidth\": 0, \"ticks\": \"\"}}, \"type\": \"scatterternary\"}], \"surface\": [{\"colorbar\": {\"outlinewidth\": 0, \"ticks\": \"\"}, \"colorscale\": [[0.0, \"#0d0887\"], [0.1111111111111111, \"#46039f\"], [0.2222222222222222, \"#7201a8\"], [0.3333333333333333, \"#9c179e\"], [0.4444444444444444, \"#bd3786\"], [0.5555555555555556, \"#d8576b\"], [0.6666666666666666, \"#ed7953\"], [0.7777777777777778, \"#fb9f3a\"], [0.8888888888888888, \"#fdca26\"], [1.0, \"#f0f921\"]], \"type\": \"surface\"}], \"table\": [{\"cells\": {\"fill\": {\"color\": \"#EBF0F8\"}, \"line\": {\"color\": \"white\"}}, \"header\": {\"fill\": {\"color\": \"#C8D4E3\"}, \"line\": {\"color\": \"white\"}}, \"type\": \"table\"}]}, \"layout\": {\"annotationdefaults\": {\"arrowcolor\": \"#2a3f5f\", \"arrowhead\": 0, \"arrowwidth\": 1}, \"coloraxis\": {\"colorbar\": {\"outlinewidth\": 0, \"ticks\": \"\"}}, \"colorscale\": {\"diverging\": [[0, \"#8e0152\"], [0.1, \"#c51b7d\"], [0.2, \"#de77ae\"], [0.3, \"#f1b6da\"], [0.4, \"#fde0ef\"], [0.5, \"#f7f7f7\"], [0.6, \"#e6f5d0\"], [0.7, \"#b8e186\"], [0.8, \"#7fbc41\"], [0.9, \"#4d9221\"], [1, \"#276419\"]], \"sequential\": [[0.0, \"#0d0887\"], [0.1111111111111111, \"#46039f\"], [0.2222222222222222, \"#7201a8\"], [0.3333333333333333, \"#9c179e\"], [0.4444444444444444, \"#bd3786\"], [0.5555555555555556, \"#d8576b\"], [0.6666666666666666, \"#ed7953\"], [0.7777777777777778, \"#fb9f3a\"], [0.8888888888888888, \"#fdca26\"], [1.0, \"#f0f921\"]], \"sequentialminus\": [[0.0, \"#0d0887\"], [0.1111111111111111, \"#46039f\"], [0.2222222222222222, \"#7201a8\"], [0.3333333333333333, \"#9c179e\"], [0.4444444444444444, \"#bd3786\"], [0.5555555555555556, \"#d8576b\"], [0.6666666666666666, \"#ed7953\"], [0.7777777777777778, \"#fb9f3a\"], [0.8888888888888888, \"#fdca26\"], [1.0, \"#f0f921\"]]}, \"colorway\": [\"#636efa\", \"#EF553B\", \"#00cc96\", \"#ab63fa\", \"#FFA15A\", \"#19d3f3\", \"#FF6692\", \"#B6E880\", \"#FF97FF\", \"#FECB52\"], \"font\": {\"color\": \"#2a3f5f\"}, \"geo\": {\"bgcolor\": \"white\", \"lakecolor\": \"white\", \"landcolor\": \"#E5ECF6\", \"showlakes\": true, \"showland\": true, \"subunitcolor\": \"white\"}, \"hoverlabel\": {\"align\": \"left\"}, \"hovermode\": \"closest\", \"mapbox\": {\"style\": \"light\"}, \"paper_bgcolor\": \"white\", \"plot_bgcolor\": \"#E5ECF6\", \"polar\": {\"angularaxis\": {\"gridcolor\": \"white\", \"linecolor\": \"white\", \"ticks\": \"\"}, \"bgcolor\": \"#E5ECF6\", \"radialaxis\": {\"gridcolor\": \"white\", \"linecolor\": \"white\", \"ticks\": \"\"}}, \"scene\": {\"xaxis\": {\"backgroundcolor\": \"#E5ECF6\", \"gridcolor\": \"white\", \"gridwidth\": 2, \"linecolor\": \"white\", \"showbackground\": true, \"ticks\": \"\", \"zerolinecolor\": \"white\"}, \"yaxis\": {\"backgroundcolor\": \"#E5ECF6\", \"gridcolor\": \"white\", \"gridwidth\": 2, \"linecolor\": \"white\", \"showbackground\": true, \"ticks\": \"\", \"zerolinecolor\": \"white\"}, \"zaxis\": {\"backgroundcolor\": \"#E5ECF6\", \"gridcolor\": \"white\", \"gridwidth\": 2, \"linecolor\": \"white\", \"showbackground\": true, \"ticks\": \"\", \"zerolinecolor\": \"white\"}}, \"shapedefaults\": {\"line\": {\"color\": \"#2a3f5f\"}}, \"ternary\": {\"aaxis\": {\"gridcolor\": \"white\", \"linecolor\": \"white\", \"ticks\": \"\"}, \"baxis\": {\"gridcolor\": \"white\", \"linecolor\": \"white\", \"ticks\": \"\"}, \"bgcolor\": \"#E5ECF6\", \"caxis\": {\"gridcolor\": \"white\", \"linecolor\": \"white\", \"ticks\": \"\"}}, \"title\": {\"x\": 0.05}, \"xaxis\": {\"automargin\": true, \"gridcolor\": \"white\", \"linecolor\": \"white\", \"ticks\": \"\", \"title\": {\"standoff\": 15}, \"zerolinecolor\": \"white\", \"zerolinewidth\": 2}, \"yaxis\": {\"automargin\": true, \"gridcolor\": \"white\", \"linecolor\": \"white\", \"ticks\": \"\", \"title\": {\"standoff\": 15}, \"zerolinecolor\": \"white\", \"zerolinewidth\": 2}}}, \"xaxis\": {\"anchor\": \"y\", \"domain\": [0.0, 1.0], \"title\": {\"text\": \"frame index\"}}, \"yaxis\": {\"anchor\": \"x\", \"domain\": [0.0, 1.0], \"title\": {\"text\": \"size (bytes)\"}}},\n",
       "                        {\"responsive\": true}\n",
       "                    ).then(function(){\n",
       "                            \n",
       "var gd = document.getElementById('4fa0b537-167a-45e2-8681-c13a93447788');\n",
       "var x = new MutationObserver(function (mutations, observer) {{\n",
       "        var display = window.getComputedStyle(gd).display;\n",
       "        if (!display || display === 'none') {{\n",
       "            console.log([gd, 'removed!']);\n",
       "            Plotly.purge(gd);\n",
       "            observer.disconnect();\n",
       "        }}\n",
       "}});\n",
       "\n",
       "// Listen for the removal of the full notebook cells\n",
       "var notebookContainer = gd.closest('#notebook-container');\n",
       "if (notebookContainer) {{\n",
       "    x.observe(notebookContainer, {childList: true});\n",
       "}}\n",
       "\n",
       "// Listen for the clearing of the current output cell\n",
       "var outputEl = gd.closest('.output');\n",
       "if (outputEl) {{\n",
       "    x.observe(outputEl, {childList: true});\n",
       "}}\n",
       "\n",
       "                        })\n",
       "                };\n",
       "                });\n",
       "            </script>\n",
       "        </div>"
      ]
     },
     "metadata": {},
     "output_type": "display_data"
    }
   ],
   "source": [
    "# Plot an interactive visualization of the frame size of the input video.\n",
    "\n",
    "output=!ffprobe -hide_banner -v error -select_streams v:0 -show_frames {input_file}\n",
    "    \n",
    "import pandas as pd\n",
    "import numpy as np\n",
    "\n",
    "def parseOutput(output_lines):\n",
    "    frames = []\n",
    "    current_frame = {}\n",
    "    for line in output_lines:\n",
    "        if line == '[/FRAME]':\n",
    "            frames.append(current_frame)\n",
    "            current_frame = {}\n",
    "        elif line != '[FRAME]':\n",
    "            pair = line.split('=')\n",
    "            current_frame[pair[0]] = pair[1]\n",
    "    return frames\n",
    "\n",
    "def countByFrameType(frames):\n",
    "    count = {}\n",
    "    for frame in frames:\n",
    "        t = frame['pict_type']\n",
    "        count[t] = (count[t] + 1) if t in count else 1\n",
    "    return count\n",
    "\n",
    "def toPandasDf(frames): \n",
    "    dict_obj = {\n",
    "        'frame index': range(len(frames)),\n",
    "        'size (bytes)': [int(f['pkt_size']) for f in frames],\n",
    "        'type': [f['pict_type'] for f in frames]\n",
    "    }\n",
    "\n",
    "    return pd.DataFrame.from_dict(dict_obj)\n",
    "\n",
    "frames = parseOutput(output)\n",
    "\n",
    "import plotly.express as px\n",
    "framesize_df = toPandasDf(frames)\n",
    "\n",
    "fig = px.bar(framesize_df, x=\"frame index\", y=\"size (bytes)\", color=\"type\")\n",
    "fig.show()\n"
   ]
  },
  {
   "cell_type": "code",
   "execution_count": 6,
   "metadata": {
    "scrolled": true
   },
   "outputs": [
    {
     "name": "stdout",
     "output_type": "stream",
     "text": [
      "Input #0, mov,mp4,m4a,3gp,3g2,mj2, from 'output.mp4':\n",
      "  Metadata:\n",
      "    major_brand     : isom\n",
      "    minor_version   : 512\n",
      "    compatible_brands: isomiso2avc1mp41\n",
      "    encoder         : Lavf58.29.100\n",
      "  Duration: 00:00:10.03, start: 0.000000, bitrate: 687 kb/s\n",
      "    Stream #0:0(und): Video: h264 (High) (avc1 / 0x31637661), yuv420p, 864x360 [SAR 1:1 DAR 12:5], 551 kb/s, 24 fps, 24 tbr, 12288 tbn, 48 tbc (default)\n",
      "    Metadata:\n",
      "      handler_name    : VideoHandler\n",
      "    Stream #0:1(und): Audio: aac (LC) (mp4a / 0x6134706D), 48000 Hz, stereo, fltp, 128 kb/s (default)\n",
      "    Metadata:\n",
      "      handler_name    : SoundHandler\n",
      "Input #1, mov,mp4,m4a,3gp,3g2,mj2, from 'input.mp4':\n",
      "  Metadata:\n",
      "    major_brand     : isom\n",
      "    minor_version   : 512\n",
      "    compatible_brands: isomiso2avc1mp41\n",
      "    encoder         : Lavf58.29.100\n",
      "  Duration: 00:00:10.02, start: 0.000000, bitrate: 2018 kb/s\n",
      "    Stream #1:0(und): Video: h264 (High) (avc1 / 0x31637661), yuv420p, 864x360 [SAR 1:1 DAR 12:5], 1885 kb/s, 24 fps, 24 tbr, 12288 tbn, 48 tbc (default)\n",
      "    Metadata:\n",
      "      handler_name    : VideoHandler\n",
      "    Stream #1:1(und): Audio: aac (LC) (mp4a / 0x6134706D), 48000 Hz, stereo, fltp, 128 kb/s (default)\n",
      "    Metadata:\n",
      "      handler_name    : SoundHandler\n",
      "Stream mapping:\n",
      "  Stream #0:0 (h264) -> libvmaf:main (graph 0)\n",
      "  Stream #1:0 (h264) -> libvmaf:reference (graph 0)\n",
      "  libvmaf (graph 0) -> Stream #0:0 (wrapped_avframe)\n",
      "  Stream #0:1 -> #0:1 (aac (native) -> pcm_s16le (native))\n",
      "Press [q] to stop, [?] for help\n",
      "Output #0, null, to 'pipe:':\n",
      "  Metadata:\n",
      "    major_brand     : isom\n",
      "    minor_version   : 512\n",
      "    compatible_brands: isomiso2avc1mp41\n",
      "    encoder         : Lavf58.29.100\n",
      "    Stream #0:0: Video: wrapped_avframe, yuv420p, 864x360 [SAR 1:1 DAR 12:5], q=2-31, 200 kb/s, 24 fps, 24 tbn, 24 tbc (default)\n",
      "    Metadata:\n",
      "      encoder         : Lavc58.54.100 wrapped_avframe\n",
      "    Stream #0:1(und): Audio: pcm_s16le, 48000 Hz, stereo, s16, 1536 kb/s (default)\n",
      "    Metadata:\n",
      "      handler_name    : SoundHandler\n",
      "      encoder         : Lavc58.54.100 pcm_s16le\n",
      "frame=  240 fps= 53 q=-0.0 Lsize=N/A time=00:00:10.00 bitrate=N/A speed= 2.2x    \n",
      "video:126kB audio:1876kB subtitle:0kB other streams:0kB global headers:0kB muxing overhead: unknown\n",
      "\u001b[1;32m[libvmaf @ 0x7fc836b09700] \u001b[0mVMAF score: 92.719639\n"
     ]
    }
   ],
   "source": [
    "# Create a compressed output video.\n",
    "output_file = 'output.mp4'\n",
    "!ffmpeg -v error -i {input_file} -crf 26 -y {output_file}\n",
    "\n",
    "# Calculate per frame PSNR, SSIM, VMAF. Caution: this may take a while.\n",
    "metric_log = 'metric.log'\n",
    "!rm {metric_log}\n",
    "!ffmpeg -hide_banner -i output.mp4 -i {input_file} -filter_complex \\\n",
    "    libvmaf=psnr=1:ssim=1:log_path={metric_log}:log_fmt=json:model_path=model/vmaf_v0.6.1.pkl -f null -\n"
   ]
  },
  {
   "cell_type": "code",
   "execution_count": 7,
   "metadata": {},
   "outputs": [
    {
     "data": {
      "application/vnd.plotly.v1+json": {
       "config": {
        "plotlyServerURL": "https://plot.ly"
       },
       "data": [
        {
         "type": "scatter",
         "x": [
          0,
          1,
          2,
          3,
          4,
          5,
          6,
          7,
          8,
          9,
          10,
          11,
          12,
          13,
          14,
          15,
          16,
          17,
          18,
          19,
          20,
          21,
          22,
          23,
          24,
          25,
          26,
          27,
          28,
          29,
          30,
          31,
          32,
          33,
          34,
          35,
          36,
          37,
          38,
          39,
          40,
          41,
          42,
          43,
          44,
          45,
          46,
          47,
          48,
          49,
          50,
          51,
          52,
          53,
          54,
          55,
          56,
          57,
          58,
          59,
          60,
          61,
          62,
          63,
          64,
          65,
          66,
          67,
          68,
          69,
          70,
          71,
          72,
          73,
          74,
          75,
          76,
          77,
          78,
          79,
          80,
          81,
          82,
          83,
          84,
          85,
          86,
          87,
          88,
          89,
          90,
          91,
          92,
          93,
          94,
          95,
          96,
          97,
          98,
          99,
          100,
          101,
          102,
          103,
          104,
          105,
          106,
          107,
          108,
          109,
          110,
          111,
          112,
          113,
          114,
          115,
          116,
          117,
          118,
          119,
          120,
          121,
          122,
          123,
          124,
          125,
          126,
          127,
          128,
          129,
          130,
          131,
          132,
          133,
          134,
          135,
          136,
          137,
          138,
          139,
          140,
          141,
          142,
          143,
          144,
          145,
          146,
          147,
          148,
          149,
          150,
          151,
          152,
          153,
          154,
          155,
          156,
          157,
          158,
          159,
          160,
          161,
          162,
          163,
          164,
          165,
          166,
          167,
          168,
          169,
          170,
          171,
          172,
          173,
          174,
          175,
          176,
          177,
          178,
          179,
          180,
          181,
          182,
          183,
          184,
          185,
          186,
          187,
          188,
          189,
          190,
          191,
          192,
          193,
          194,
          195,
          196,
          197,
          198,
          199,
          200,
          201,
          202,
          203,
          204,
          205,
          206,
          207,
          208,
          209,
          210,
          211,
          212,
          213,
          214,
          215,
          216,
          217,
          218,
          219,
          220,
          221,
          222,
          223,
          224,
          225,
          226,
          227,
          228,
          229,
          230,
          231,
          232,
          233,
          234,
          235,
          236,
          237,
          238,
          239
         ],
         "xaxis": "x",
         "y": [
          40.8225,
          40.81202,
          40.75626,
          40.89588,
          40.63731,
          40.92885,
          40.95978,
          40.997,
          40.7587,
          41.13327,
          41.06953,
          41.19456,
          40.89285,
          41.19117,
          41.19486,
          40.92669,
          41.15608,
          41.32546,
          41.3225,
          41.21716,
          41.40901,
          41.31001,
          41.49745,
          41.16567,
          41.24555,
          41.25763,
          41.25963,
          41.289,
          41.4002,
          41.45048,
          41.39378,
          41.33959,
          41.43212,
          41.46811,
          41.52927,
          41.48723,
          41.74166,
          41.57703,
          41.52585,
          40.94975,
          41.56826,
          41.60442,
          41.78885,
          41.55732,
          42.05377,
          42.25871,
          42.3295,
          42.01559,
          42.33072,
          42.23881,
          42.1636,
          41.93678,
          42.07952,
          41.9179,
          42.13627,
          41.91268,
          42.07372,
          41.97617,
          41.86478,
          41.71196,
          42.00823,
          41.98774,
          42.06747,
          41.8576,
          41.99655,
          41.90242,
          41.87454,
          41.66098,
          41.94219,
          41.72897,
          41.65524,
          41.54549,
          41.86289,
          41.54403,
          41.76984,
          41.64348,
          41.67128,
          40.98697,
          40.23227,
          40.10141,
          39.31774,
          38.9449,
          37.8712,
          38.52621,
          38.22555,
          38.24016,
          37.6292,
          38.18196,
          37.7529,
          38.03073,
          37.33122,
          37.95686,
          37.63292,
          37.7834,
          37.22222,
          37.78939,
          37.41809,
          37.69995,
          37.15524,
          37.93535,
          37.6764,
          37.76987,
          37.14855,
          37.78493,
          37.64423,
          37.75504,
          37.11837,
          37.79851,
          37.452,
          37.76948,
          37.07752,
          37.70473,
          37.24398,
          37.56947,
          37.02645,
          37.74655,
          37.39403,
          37.46819,
          36.96996,
          37.68452,
          37.33689,
          37.52229,
          36.94421,
          37.68708,
          37.4993,
          37.62666,
          36.94639,
          37.69988,
          37.34651,
          37.49992,
          36.87279,
          37.46223,
          37.0253,
          37.35716,
          36.84971,
          37.5778,
          37.02298,
          37.38023,
          36.83616,
          37.49227,
          37.34533,
          37.47852,
          36.94953,
          37.71532,
          37.39007,
          37.60946,
          37.01241,
          37.62691,
          37.19305,
          37.39792,
          36.92163,
          37.56677,
          37.28098,
          37.52494,
          37.07017,
          37.78917,
          37.50417,
          37.62132,
          37.06292,
          37.8213,
          37.54486,
          37.66848,
          37.05963,
          37.8559,
          37.50674,
          37.5357,
          36.996,
          37.8045,
          37.46982,
          37.61553,
          37.08352,
          37.90387,
          37.45044,
          37.64305,
          37.11498,
          37.85144,
          37.59823,
          37.68461,
          36.9923,
          37.62249,
          37.26176,
          37.52755,
          36.94674,
          37.57489,
          37.39112,
          37.49518,
          36.9745,
          37.71929,
          37.44486,
          37.51865,
          37.07966,
          37.68587,
          37.27839,
          37.48292,
          37.09901,
          37.68533,
          37.3277,
          37.53752,
          37.02802,
          37.78777,
          37.49287,
          37.57427,
          36.9665,
          37.6836,
          37.19852,
          37.41049,
          36.84112,
          37.43752,
          37.23783,
          37.10964,
          36.75257,
          37.24539,
          36.94905,
          37.00466,
          36.59505,
          37.13027,
          36.6252,
          36.6902,
          36.18656,
          36.61395,
          36.4767,
          36.41617,
          35.84462,
          36.21359,
          35.93754,
          35.87058,
          35.0415,
          34.68863,
          41.619,
          40.35571,
          40.00953,
          40.0293,
          39.01542,
          39.6253,
          39.72103,
          39.32412,
          39.02976,
          38.90578,
          38.75881,
          37.91428
         ],
         "yaxis": "y"
        },
        {
         "type": "scatter",
         "x": [
          0,
          1,
          2,
          3,
          4,
          5,
          6,
          7,
          8,
          9,
          10,
          11,
          12,
          13,
          14,
          15,
          16,
          17,
          18,
          19,
          20,
          21,
          22,
          23,
          24,
          25,
          26,
          27,
          28,
          29,
          30,
          31,
          32,
          33,
          34,
          35,
          36,
          37,
          38,
          39,
          40,
          41,
          42,
          43,
          44,
          45,
          46,
          47,
          48,
          49,
          50,
          51,
          52,
          53,
          54,
          55,
          56,
          57,
          58,
          59,
          60,
          61,
          62,
          63,
          64,
          65,
          66,
          67,
          68,
          69,
          70,
          71,
          72,
          73,
          74,
          75,
          76,
          77,
          78,
          79,
          80,
          81,
          82,
          83,
          84,
          85,
          86,
          87,
          88,
          89,
          90,
          91,
          92,
          93,
          94,
          95,
          96,
          97,
          98,
          99,
          100,
          101,
          102,
          103,
          104,
          105,
          106,
          107,
          108,
          109,
          110,
          111,
          112,
          113,
          114,
          115,
          116,
          117,
          118,
          119,
          120,
          121,
          122,
          123,
          124,
          125,
          126,
          127,
          128,
          129,
          130,
          131,
          132,
          133,
          134,
          135,
          136,
          137,
          138,
          139,
          140,
          141,
          142,
          143,
          144,
          145,
          146,
          147,
          148,
          149,
          150,
          151,
          152,
          153,
          154,
          155,
          156,
          157,
          158,
          159,
          160,
          161,
          162,
          163,
          164,
          165,
          166,
          167,
          168,
          169,
          170,
          171,
          172,
          173,
          174,
          175,
          176,
          177,
          178,
          179,
          180,
          181,
          182,
          183,
          184,
          185,
          186,
          187,
          188,
          189,
          190,
          191,
          192,
          193,
          194,
          195,
          196,
          197,
          198,
          199,
          200,
          201,
          202,
          203,
          204,
          205,
          206,
          207,
          208,
          209,
          210,
          211,
          212,
          213,
          214,
          215,
          216,
          217,
          218,
          219,
          220,
          221,
          222,
          223,
          224,
          225,
          226,
          227,
          228,
          229,
          230,
          231,
          232,
          233,
          234,
          235,
          236,
          237,
          238,
          239
         ],
         "xaxis": "x2",
         "y": [
          0.9788,
          0.97903,
          0.97857,
          0.9785,
          0.97729,
          0.97843,
          0.97838,
          0.97827,
          0.9768,
          0.97828,
          0.97817,
          0.97843,
          0.97667,
          0.97817,
          0.97826,
          0.9766,
          0.97855,
          0.97855,
          0.97871,
          0.97761,
          0.97931,
          0.97879,
          0.97963,
          0.97788,
          0.97932,
          0.97949,
          0.97968,
          0.97891,
          0.97997,
          0.97988,
          0.97982,
          0.97901,
          0.97995,
          0.9799,
          0.98013,
          0.97932,
          0.98069,
          0.97989,
          0.97959,
          0.97797,
          0.98002,
          0.97947,
          0.97936,
          0.97842,
          0.98056,
          0.98051,
          0.98087,
          0.97981,
          0.98097,
          0.98068,
          0.98077,
          0.97984,
          0.98061,
          0.98022,
          0.98068,
          0.98001,
          0.98077,
          0.98038,
          0.98035,
          0.97977,
          0.98053,
          0.98038,
          0.98065,
          0.97981,
          0.98038,
          0.9803,
          0.98028,
          0.97953,
          0.98036,
          0.98003,
          0.97984,
          0.97932,
          0.98035,
          0.97982,
          0.98031,
          0.97973,
          0.97995,
          0.97882,
          0.97801,
          0.97869,
          0.97686,
          0.97501,
          0.96994,
          0.97345,
          0.97251,
          0.97182,
          0.96796,
          0.97114,
          0.96948,
          0.96985,
          0.96507,
          0.9691,
          0.96794,
          0.96775,
          0.96398,
          0.96777,
          0.96666,
          0.96723,
          0.96302,
          0.96784,
          0.96716,
          0.96688,
          0.96255,
          0.96655,
          0.96632,
          0.96622,
          0.96217,
          0.96692,
          0.96565,
          0.9662,
          0.96204,
          0.96654,
          0.9647,
          0.9652,
          0.96142,
          0.96606,
          0.96483,
          0.96451,
          0.96075,
          0.96581,
          0.96463,
          0.96464,
          0.9608,
          0.96556,
          0.9651,
          0.96499,
          0.96067,
          0.965,
          0.96386,
          0.96375,
          0.95959,
          0.96412,
          0.96293,
          0.96357,
          0.9598,
          0.96543,
          0.96312,
          0.96407,
          0.95901,
          0.96385,
          0.96332,
          0.96318,
          0.95964,
          0.96465,
          0.9637,
          0.96423,
          0.95999,
          0.96497,
          0.96313,
          0.96325,
          0.95948,
          0.96515,
          0.96408,
          0.9648,
          0.96112,
          0.96639,
          0.96546,
          0.96543,
          0.96178,
          0.96686,
          0.96595,
          0.96598,
          0.96206,
          0.96703,
          0.96559,
          0.96408,
          0.95999,
          0.96546,
          0.96437,
          0.96447,
          0.96086,
          0.9661,
          0.96465,
          0.96494,
          0.96151,
          0.96628,
          0.96548,
          0.96526,
          0.95994,
          0.96396,
          0.96323,
          0.96423,
          0.96012,
          0.96424,
          0.96385,
          0.96403,
          0.96037,
          0.96501,
          0.96423,
          0.96392,
          0.96084,
          0.96457,
          0.96291,
          0.96318,
          0.96059,
          0.96463,
          0.96361,
          0.96349,
          0.96018,
          0.96489,
          0.96398,
          0.96354,
          0.95999,
          0.96426,
          0.96189,
          0.96244,
          0.95858,
          0.9625,
          0.96197,
          0.9609,
          0.95833,
          0.9616,
          0.96056,
          0.96038,
          0.95714,
          0.96092,
          0.95867,
          0.95838,
          0.95409,
          0.95725,
          0.95704,
          0.95647,
          0.95247,
          0.95545,
          0.9539,
          0.95384,
          0.9479,
          0.94624,
          0.97954,
          0.97816,
          0.97676,
          0.97767,
          0.97403,
          0.97625,
          0.97652,
          0.97615,
          0.97452,
          0.97508,
          0.97426,
          0.97093
         ],
         "yaxis": "y2"
        },
        {
         "type": "scatter",
         "x": [
          0,
          1,
          2,
          3,
          4,
          5,
          6,
          7,
          8,
          9,
          10,
          11,
          12,
          13,
          14,
          15,
          16,
          17,
          18,
          19,
          20,
          21,
          22,
          23,
          24,
          25,
          26,
          27,
          28,
          29,
          30,
          31,
          32,
          33,
          34,
          35,
          36,
          37,
          38,
          39,
          40,
          41,
          42,
          43,
          44,
          45,
          46,
          47,
          48,
          49,
          50,
          51,
          52,
          53,
          54,
          55,
          56,
          57,
          58,
          59,
          60,
          61,
          62,
          63,
          64,
          65,
          66,
          67,
          68,
          69,
          70,
          71,
          72,
          73,
          74,
          75,
          76,
          77,
          78,
          79,
          80,
          81,
          82,
          83,
          84,
          85,
          86,
          87,
          88,
          89,
          90,
          91,
          92,
          93,
          94,
          95,
          96,
          97,
          98,
          99,
          100,
          101,
          102,
          103,
          104,
          105,
          106,
          107,
          108,
          109,
          110,
          111,
          112,
          113,
          114,
          115,
          116,
          117,
          118,
          119,
          120,
          121,
          122,
          123,
          124,
          125,
          126,
          127,
          128,
          129,
          130,
          131,
          132,
          133,
          134,
          135,
          136,
          137,
          138,
          139,
          140,
          141,
          142,
          143,
          144,
          145,
          146,
          147,
          148,
          149,
          150,
          151,
          152,
          153,
          154,
          155,
          156,
          157,
          158,
          159,
          160,
          161,
          162,
          163,
          164,
          165,
          166,
          167,
          168,
          169,
          170,
          171,
          172,
          173,
          174,
          175,
          176,
          177,
          178,
          179,
          180,
          181,
          182,
          183,
          184,
          185,
          186,
          187,
          188,
          189,
          190,
          191,
          192,
          193,
          194,
          195,
          196,
          197,
          198,
          199,
          200,
          201,
          202,
          203,
          204,
          205,
          206,
          207,
          208,
          209,
          210,
          211,
          212,
          213,
          214,
          215,
          216,
          217,
          218,
          219,
          220,
          221,
          222,
          223,
          224,
          225,
          226,
          227,
          228,
          229,
          230,
          231,
          232,
          233,
          234,
          235,
          236,
          237,
          238,
          239
         ],
         "xaxis": "x3",
         "y": [
          91.45276,
          94.70787,
          94.52052,
          94.90682,
          95.14065,
          94.93808,
          95.22442,
          94.97997,
          95.86711,
          95.27781,
          95.71413,
          95.66007,
          96.47088,
          95.65472,
          95.26074,
          96.84092,
          96.07313,
          96.94132,
          96.96525,
          98.26542,
          98.15935,
          98.46925,
          98.18312,
          97.41677,
          96.89288,
          97.08319,
          97.04971,
          97.5429,
          96.33122,
          96.61299,
          96.64694,
          97.32919,
          96.81485,
          97.14356,
          97.47945,
          98.10646,
          98.2953,
          99.08943,
          99.08413,
          97.47344,
          97.85329,
          97.63691,
          97.53906,
          95.54489,
          94.67324,
          94.93221,
          93.71242,
          93.07657,
          93.24041,
          93.46464,
          93.34335,
          93.44694,
          93.34557,
          93.15866,
          93.28981,
          93.41547,
          93.14318,
          93.05022,
          92.08472,
          91.93287,
          92.12958,
          92.47038,
          92.21144,
          92.02748,
          92.00442,
          91.70865,
          91.6173,
          91.39192,
          91.72917,
          91.27633,
          91.01163,
          90.81184,
          91.0939,
          90.48771,
          90.83501,
          90.99626,
          90.92627,
          89.60144,
          95.91514,
          94.89943,
          94.2487,
          93.58725,
          92.94296,
          92.93383,
          93.03106,
          92.64638,
          92.93045,
          92.49496,
          92.41197,
          92.47151,
          92.77946,
          92.80883,
          92.17107,
          91.9739,
          92.19369,
          91.98853,
          91.87835,
          92.19723,
          92.23128,
          92.12864,
          92.09786,
          92.18873,
          92.31946,
          92.15451,
          92.27697,
          92.23549,
          92.35721,
          92.12146,
          91.7305,
          92.07227,
          91.96318,
          92.13092,
          91.51159,
          92.00699,
          92.13889,
          92.11102,
          91.9577,
          91.80324,
          92.32343,
          92.18052,
          92.0813,
          91.91047,
          92.08452,
          92.2772,
          92.05629,
          92.11508,
          92.15497,
          92.18151,
          92.02654,
          92.26637,
          92.29681,
          91.9344,
          91.24297,
          91.79683,
          92.03212,
          92.07807,
          91.24418,
          91.58643,
          91.80634,
          91.95585,
          91.97067,
          92.09075,
          92.12926,
          92.16302,
          91.97607,
          92.10417,
          92.11624,
          92.28277,
          91.69472,
          92.05465,
          92.33297,
          92.26827,
          91.68305,
          92.13188,
          92.56082,
          92.59408,
          92.33528,
          92.38332,
          92.38204,
          92.43687,
          92.1754,
          92.14329,
          92.15461,
          92.21857,
          91.9008,
          91.9916,
          92.15888,
          92.39227,
          92.05823,
          92.0376,
          92.26412,
          92.30129,
          91.62455,
          91.85157,
          91.96331,
          92.00658,
          91.84296,
          92.0439,
          92.30862,
          92.18937,
          91.61922,
          92.05829,
          92.03304,
          92.31854,
          92.28238,
          92.25527,
          92.0215,
          92.04854,
          91.7218,
          91.81317,
          91.98749,
          91.82059,
          91.3872,
          91.98996,
          92.15578,
          91.5326,
          91.11839,
          91.2777,
          91.48911,
          91.86866,
          91.56044,
          91.67448,
          91.32124,
          91.71396,
          90.95042,
          91.46087,
          91.27585,
          91.28368,
          91.12241,
          90.77523,
          91.02901,
          90.76282,
          90.69563,
          90.44298,
          90.71675,
          90.70294,
          89.71626,
          90.1045,
          89.93018,
          89.91668,
          89.82153,
          89.36744,
          88.67765,
          88.90222,
          88.32863,
          87.83746,
          86.44283,
          85.16426,
          96.13938,
          93.6191,
          93.71565,
          91.89429,
          91.3634,
          91.21601,
          91.92053,
          90.36177,
          90.35425,
          90.33244,
          89.32525,
          86.69865
         ],
         "yaxis": "y3"
        }
       ],
       "layout": {
        "annotations": [
         {
          "font": {
           "size": 16
          },
          "showarrow": false,
          "text": "psnr",
          "x": 0.14444444444444446,
          "xanchor": "center",
          "xref": "paper",
          "y": 1,
          "yanchor": "bottom",
          "yref": "paper"
         },
         {
          "font": {
           "size": 16
          },
          "showarrow": false,
          "text": "ssim",
          "x": 0.5,
          "xanchor": "center",
          "xref": "paper",
          "y": 1,
          "yanchor": "bottom",
          "yref": "paper"
         },
         {
          "font": {
           "size": 16
          },
          "showarrow": false,
          "text": "vmaf",
          "x": 0.8555555555555556,
          "xanchor": "center",
          "xref": "paper",
          "y": 1,
          "yanchor": "bottom",
          "yref": "paper"
         }
        ],
        "showlegend": false,
        "template": {
         "data": {
          "bar": [
           {
            "error_x": {
             "color": "#2a3f5f"
            },
            "error_y": {
             "color": "#2a3f5f"
            },
            "marker": {
             "line": {
              "color": "#E5ECF6",
              "width": 0.5
             }
            },
            "type": "bar"
           }
          ],
          "barpolar": [
           {
            "marker": {
             "line": {
              "color": "#E5ECF6",
              "width": 0.5
             }
            },
            "type": "barpolar"
           }
          ],
          "carpet": [
           {
            "aaxis": {
             "endlinecolor": "#2a3f5f",
             "gridcolor": "white",
             "linecolor": "white",
             "minorgridcolor": "white",
             "startlinecolor": "#2a3f5f"
            },
            "baxis": {
             "endlinecolor": "#2a3f5f",
             "gridcolor": "white",
             "linecolor": "white",
             "minorgridcolor": "white",
             "startlinecolor": "#2a3f5f"
            },
            "type": "carpet"
           }
          ],
          "choropleth": [
           {
            "colorbar": {
             "outlinewidth": 0,
             "ticks": ""
            },
            "type": "choropleth"
           }
          ],
          "contour": [
           {
            "colorbar": {
             "outlinewidth": 0,
             "ticks": ""
            },
            "colorscale": [
             [
              0,
              "#0d0887"
             ],
             [
              0.1111111111111111,
              "#46039f"
             ],
             [
              0.2222222222222222,
              "#7201a8"
             ],
             [
              0.3333333333333333,
              "#9c179e"
             ],
             [
              0.4444444444444444,
              "#bd3786"
             ],
             [
              0.5555555555555556,
              "#d8576b"
             ],
             [
              0.6666666666666666,
              "#ed7953"
             ],
             [
              0.7777777777777778,
              "#fb9f3a"
             ],
             [
              0.8888888888888888,
              "#fdca26"
             ],
             [
              1,
              "#f0f921"
             ]
            ],
            "type": "contour"
           }
          ],
          "contourcarpet": [
           {
            "colorbar": {
             "outlinewidth": 0,
             "ticks": ""
            },
            "type": "contourcarpet"
           }
          ],
          "heatmap": [
           {
            "colorbar": {
             "outlinewidth": 0,
             "ticks": ""
            },
            "colorscale": [
             [
              0,
              "#0d0887"
             ],
             [
              0.1111111111111111,
              "#46039f"
             ],
             [
              0.2222222222222222,
              "#7201a8"
             ],
             [
              0.3333333333333333,
              "#9c179e"
             ],
             [
              0.4444444444444444,
              "#bd3786"
             ],
             [
              0.5555555555555556,
              "#d8576b"
             ],
             [
              0.6666666666666666,
              "#ed7953"
             ],
             [
              0.7777777777777778,
              "#fb9f3a"
             ],
             [
              0.8888888888888888,
              "#fdca26"
             ],
             [
              1,
              "#f0f921"
             ]
            ],
            "type": "heatmap"
           }
          ],
          "heatmapgl": [
           {
            "colorbar": {
             "outlinewidth": 0,
             "ticks": ""
            },
            "colorscale": [
             [
              0,
              "#0d0887"
             ],
             [
              0.1111111111111111,
              "#46039f"
             ],
             [
              0.2222222222222222,
              "#7201a8"
             ],
             [
              0.3333333333333333,
              "#9c179e"
             ],
             [
              0.4444444444444444,
              "#bd3786"
             ],
             [
              0.5555555555555556,
              "#d8576b"
             ],
             [
              0.6666666666666666,
              "#ed7953"
             ],
             [
              0.7777777777777778,
              "#fb9f3a"
             ],
             [
              0.8888888888888888,
              "#fdca26"
             ],
             [
              1,
              "#f0f921"
             ]
            ],
            "type": "heatmapgl"
           }
          ],
          "histogram": [
           {
            "marker": {
             "colorbar": {
              "outlinewidth": 0,
              "ticks": ""
             }
            },
            "type": "histogram"
           }
          ],
          "histogram2d": [
           {
            "colorbar": {
             "outlinewidth": 0,
             "ticks": ""
            },
            "colorscale": [
             [
              0,
              "#0d0887"
             ],
             [
              0.1111111111111111,
              "#46039f"
             ],
             [
              0.2222222222222222,
              "#7201a8"
             ],
             [
              0.3333333333333333,
              "#9c179e"
             ],
             [
              0.4444444444444444,
              "#bd3786"
             ],
             [
              0.5555555555555556,
              "#d8576b"
             ],
             [
              0.6666666666666666,
              "#ed7953"
             ],
             [
              0.7777777777777778,
              "#fb9f3a"
             ],
             [
              0.8888888888888888,
              "#fdca26"
             ],
             [
              1,
              "#f0f921"
             ]
            ],
            "type": "histogram2d"
           }
          ],
          "histogram2dcontour": [
           {
            "colorbar": {
             "outlinewidth": 0,
             "ticks": ""
            },
            "colorscale": [
             [
              0,
              "#0d0887"
             ],
             [
              0.1111111111111111,
              "#46039f"
             ],
             [
              0.2222222222222222,
              "#7201a8"
             ],
             [
              0.3333333333333333,
              "#9c179e"
             ],
             [
              0.4444444444444444,
              "#bd3786"
             ],
             [
              0.5555555555555556,
              "#d8576b"
             ],
             [
              0.6666666666666666,
              "#ed7953"
             ],
             [
              0.7777777777777778,
              "#fb9f3a"
             ],
             [
              0.8888888888888888,
              "#fdca26"
             ],
             [
              1,
              "#f0f921"
             ]
            ],
            "type": "histogram2dcontour"
           }
          ],
          "mesh3d": [
           {
            "colorbar": {
             "outlinewidth": 0,
             "ticks": ""
            },
            "type": "mesh3d"
           }
          ],
          "parcoords": [
           {
            "line": {
             "colorbar": {
              "outlinewidth": 0,
              "ticks": ""
             }
            },
            "type": "parcoords"
           }
          ],
          "pie": [
           {
            "automargin": true,
            "type": "pie"
           }
          ],
          "scatter": [
           {
            "marker": {
             "colorbar": {
              "outlinewidth": 0,
              "ticks": ""
             }
            },
            "type": "scatter"
           }
          ],
          "scatter3d": [
           {
            "line": {
             "colorbar": {
              "outlinewidth": 0,
              "ticks": ""
             }
            },
            "marker": {
             "colorbar": {
              "outlinewidth": 0,
              "ticks": ""
             }
            },
            "type": "scatter3d"
           }
          ],
          "scattercarpet": [
           {
            "marker": {
             "colorbar": {
              "outlinewidth": 0,
              "ticks": ""
             }
            },
            "type": "scattercarpet"
           }
          ],
          "scattergeo": [
           {
            "marker": {
             "colorbar": {
              "outlinewidth": 0,
              "ticks": ""
             }
            },
            "type": "scattergeo"
           }
          ],
          "scattergl": [
           {
            "marker": {
             "colorbar": {
              "outlinewidth": 0,
              "ticks": ""
             }
            },
            "type": "scattergl"
           }
          ],
          "scattermapbox": [
           {
            "marker": {
             "colorbar": {
              "outlinewidth": 0,
              "ticks": ""
             }
            },
            "type": "scattermapbox"
           }
          ],
          "scatterpolar": [
           {
            "marker": {
             "colorbar": {
              "outlinewidth": 0,
              "ticks": ""
             }
            },
            "type": "scatterpolar"
           }
          ],
          "scatterpolargl": [
           {
            "marker": {
             "colorbar": {
              "outlinewidth": 0,
              "ticks": ""
             }
            },
            "type": "scatterpolargl"
           }
          ],
          "scatterternary": [
           {
            "marker": {
             "colorbar": {
              "outlinewidth": 0,
              "ticks": ""
             }
            },
            "type": "scatterternary"
           }
          ],
          "surface": [
           {
            "colorbar": {
             "outlinewidth": 0,
             "ticks": ""
            },
            "colorscale": [
             [
              0,
              "#0d0887"
             ],
             [
              0.1111111111111111,
              "#46039f"
             ],
             [
              0.2222222222222222,
              "#7201a8"
             ],
             [
              0.3333333333333333,
              "#9c179e"
             ],
             [
              0.4444444444444444,
              "#bd3786"
             ],
             [
              0.5555555555555556,
              "#d8576b"
             ],
             [
              0.6666666666666666,
              "#ed7953"
             ],
             [
              0.7777777777777778,
              "#fb9f3a"
             ],
             [
              0.8888888888888888,
              "#fdca26"
             ],
             [
              1,
              "#f0f921"
             ]
            ],
            "type": "surface"
           }
          ],
          "table": [
           {
            "cells": {
             "fill": {
              "color": "#EBF0F8"
             },
             "line": {
              "color": "white"
             }
            },
            "header": {
             "fill": {
              "color": "#C8D4E3"
             },
             "line": {
              "color": "white"
             }
            },
            "type": "table"
           }
          ]
         },
         "layout": {
          "annotationdefaults": {
           "arrowcolor": "#2a3f5f",
           "arrowhead": 0,
           "arrowwidth": 1
          },
          "coloraxis": {
           "colorbar": {
            "outlinewidth": 0,
            "ticks": ""
           }
          },
          "colorscale": {
           "diverging": [
            [
             0,
             "#8e0152"
            ],
            [
             0.1,
             "#c51b7d"
            ],
            [
             0.2,
             "#de77ae"
            ],
            [
             0.3,
             "#f1b6da"
            ],
            [
             0.4,
             "#fde0ef"
            ],
            [
             0.5,
             "#f7f7f7"
            ],
            [
             0.6,
             "#e6f5d0"
            ],
            [
             0.7,
             "#b8e186"
            ],
            [
             0.8,
             "#7fbc41"
            ],
            [
             0.9,
             "#4d9221"
            ],
            [
             1,
             "#276419"
            ]
           ],
           "sequential": [
            [
             0,
             "#0d0887"
            ],
            [
             0.1111111111111111,
             "#46039f"
            ],
            [
             0.2222222222222222,
             "#7201a8"
            ],
            [
             0.3333333333333333,
             "#9c179e"
            ],
            [
             0.4444444444444444,
             "#bd3786"
            ],
            [
             0.5555555555555556,
             "#d8576b"
            ],
            [
             0.6666666666666666,
             "#ed7953"
            ],
            [
             0.7777777777777778,
             "#fb9f3a"
            ],
            [
             0.8888888888888888,
             "#fdca26"
            ],
            [
             1,
             "#f0f921"
            ]
           ],
           "sequentialminus": [
            [
             0,
             "#0d0887"
            ],
            [
             0.1111111111111111,
             "#46039f"
            ],
            [
             0.2222222222222222,
             "#7201a8"
            ],
            [
             0.3333333333333333,
             "#9c179e"
            ],
            [
             0.4444444444444444,
             "#bd3786"
            ],
            [
             0.5555555555555556,
             "#d8576b"
            ],
            [
             0.6666666666666666,
             "#ed7953"
            ],
            [
             0.7777777777777778,
             "#fb9f3a"
            ],
            [
             0.8888888888888888,
             "#fdca26"
            ],
            [
             1,
             "#f0f921"
            ]
           ]
          },
          "colorway": [
           "#636efa",
           "#EF553B",
           "#00cc96",
           "#ab63fa",
           "#FFA15A",
           "#19d3f3",
           "#FF6692",
           "#B6E880",
           "#FF97FF",
           "#FECB52"
          ],
          "font": {
           "color": "#2a3f5f"
          },
          "geo": {
           "bgcolor": "white",
           "lakecolor": "white",
           "landcolor": "#E5ECF6",
           "showlakes": true,
           "showland": true,
           "subunitcolor": "white"
          },
          "hoverlabel": {
           "align": "left"
          },
          "hovermode": "closest",
          "mapbox": {
           "style": "light"
          },
          "paper_bgcolor": "white",
          "plot_bgcolor": "#E5ECF6",
          "polar": {
           "angularaxis": {
            "gridcolor": "white",
            "linecolor": "white",
            "ticks": ""
           },
           "bgcolor": "#E5ECF6",
           "radialaxis": {
            "gridcolor": "white",
            "linecolor": "white",
            "ticks": ""
           }
          },
          "scene": {
           "xaxis": {
            "backgroundcolor": "#E5ECF6",
            "gridcolor": "white",
            "gridwidth": 2,
            "linecolor": "white",
            "showbackground": true,
            "ticks": "",
            "zerolinecolor": "white"
           },
           "yaxis": {
            "backgroundcolor": "#E5ECF6",
            "gridcolor": "white",
            "gridwidth": 2,
            "linecolor": "white",
            "showbackground": true,
            "ticks": "",
            "zerolinecolor": "white"
           },
           "zaxis": {
            "backgroundcolor": "#E5ECF6",
            "gridcolor": "white",
            "gridwidth": 2,
            "linecolor": "white",
            "showbackground": true,
            "ticks": "",
            "zerolinecolor": "white"
           }
          },
          "shapedefaults": {
           "line": {
            "color": "#2a3f5f"
           }
          },
          "ternary": {
           "aaxis": {
            "gridcolor": "white",
            "linecolor": "white",
            "ticks": ""
           },
           "baxis": {
            "gridcolor": "white",
            "linecolor": "white",
            "ticks": ""
           },
           "bgcolor": "#E5ECF6",
           "caxis": {
            "gridcolor": "white",
            "linecolor": "white",
            "ticks": ""
           }
          },
          "title": {
           "x": 0.05
          },
          "xaxis": {
           "automargin": true,
           "gridcolor": "white",
           "linecolor": "white",
           "ticks": "",
           "title": {
            "standoff": 15
           },
           "zerolinecolor": "white",
           "zerolinewidth": 2
          },
          "yaxis": {
           "automargin": true,
           "gridcolor": "white",
           "linecolor": "white",
           "ticks": "",
           "title": {
            "standoff": 15
           },
           "zerolinecolor": "white",
           "zerolinewidth": 2
          }
         }
        },
        "xaxis": {
         "anchor": "y",
         "domain": [
          0,
          0.2888888888888889
         ]
        },
        "xaxis2": {
         "anchor": "y2",
         "domain": [
          0.35555555555555557,
          0.6444444444444445
         ]
        },
        "xaxis3": {
         "anchor": "y3",
         "domain": [
          0.7111111111111111,
          1
         ]
        },
        "yaxis": {
         "anchor": "x",
         "domain": [
          0,
          1
         ]
        },
        "yaxis2": {
         "anchor": "x2",
         "domain": [
          0,
          1
         ]
        },
        "yaxis3": {
         "anchor": "x3",
         "domain": [
          0,
          1
         ]
        }
       }
      },
      "text/html": [
       "<div>\n",
       "        \n",
       "        \n",
       "            <div id=\"bd17cd33-42fc-47df-847f-e950f5d127eb\" class=\"plotly-graph-div\" style=\"height:525px; width:100%;\"></div>\n",
       "            <script type=\"text/javascript\">\n",
       "                require([\"plotly\"], function(Plotly) {\n",
       "                    window.PLOTLYENV=window.PLOTLYENV || {};\n",
       "                    \n",
       "                if (document.getElementById(\"bd17cd33-42fc-47df-847f-e950f5d127eb\")) {\n",
       "                    Plotly.newPlot(\n",
       "                        'bd17cd33-42fc-47df-847f-e950f5d127eb',\n",
       "                        [{\"type\": \"scatter\", \"x\": [0, 1, 2, 3, 4, 5, 6, 7, 8, 9, 10, 11, 12, 13, 14, 15, 16, 17, 18, 19, 20, 21, 22, 23, 24, 25, 26, 27, 28, 29, 30, 31, 32, 33, 34, 35, 36, 37, 38, 39, 40, 41, 42, 43, 44, 45, 46, 47, 48, 49, 50, 51, 52, 53, 54, 55, 56, 57, 58, 59, 60, 61, 62, 63, 64, 65, 66, 67, 68, 69, 70, 71, 72, 73, 74, 75, 76, 77, 78, 79, 80, 81, 82, 83, 84, 85, 86, 87, 88, 89, 90, 91, 92, 93, 94, 95, 96, 97, 98, 99, 100, 101, 102, 103, 104, 105, 106, 107, 108, 109, 110, 111, 112, 113, 114, 115, 116, 117, 118, 119, 120, 121, 122, 123, 124, 125, 126, 127, 128, 129, 130, 131, 132, 133, 134, 135, 136, 137, 138, 139, 140, 141, 142, 143, 144, 145, 146, 147, 148, 149, 150, 151, 152, 153, 154, 155, 156, 157, 158, 159, 160, 161, 162, 163, 164, 165, 166, 167, 168, 169, 170, 171, 172, 173, 174, 175, 176, 177, 178, 179, 180, 181, 182, 183, 184, 185, 186, 187, 188, 189, 190, 191, 192, 193, 194, 195, 196, 197, 198, 199, 200, 201, 202, 203, 204, 205, 206, 207, 208, 209, 210, 211, 212, 213, 214, 215, 216, 217, 218, 219, 220, 221, 222, 223, 224, 225, 226, 227, 228, 229, 230, 231, 232, 233, 234, 235, 236, 237, 238, 239], \"xaxis\": \"x\", \"y\": [40.8225, 40.81202, 40.75626, 40.89588, 40.63731, 40.92885, 40.95978, 40.997, 40.7587, 41.13327, 41.06953, 41.19456, 40.89285, 41.19117, 41.19486, 40.92669, 41.15608, 41.32546, 41.3225, 41.21716, 41.40901, 41.31001, 41.49745, 41.16567, 41.24555, 41.25763, 41.25963, 41.289, 41.4002, 41.45048, 41.39378, 41.33959, 41.43212, 41.46811, 41.52927, 41.48723, 41.74166, 41.57703, 41.52585, 40.94975, 41.56826, 41.60442, 41.78885, 41.55732, 42.05377, 42.25871, 42.3295, 42.01559, 42.33072, 42.23881, 42.1636, 41.93678, 42.07952, 41.9179, 42.13627, 41.91268, 42.07372, 41.97617, 41.86478, 41.71196, 42.00823, 41.98774, 42.06747, 41.8576, 41.99655, 41.90242, 41.87454, 41.66098, 41.94219, 41.72897, 41.65524, 41.54549, 41.86289, 41.54403, 41.76984, 41.64348, 41.67128, 40.98697, 40.23227, 40.10141, 39.31774, 38.9449, 37.8712, 38.52621, 38.22555, 38.24016, 37.6292, 38.18196, 37.7529, 38.03073, 37.33122, 37.95686, 37.63292, 37.7834, 37.22222, 37.78939, 37.41809, 37.69995, 37.15524, 37.93535, 37.6764, 37.76987, 37.14855, 37.78493, 37.64423, 37.75504, 37.11837, 37.79851, 37.452, 37.76948, 37.07752, 37.70473, 37.24398, 37.56947, 37.02645, 37.74655, 37.39403, 37.46819, 36.96996, 37.68452, 37.33689, 37.52229, 36.94421, 37.68708, 37.4993, 37.62666, 36.94639, 37.69988, 37.34651, 37.49992, 36.87279, 37.46223, 37.0253, 37.35716, 36.84971, 37.5778, 37.02298, 37.38023, 36.83616, 37.49227, 37.34533, 37.47852, 36.94953, 37.71532, 37.39007, 37.60946, 37.01241, 37.62691, 37.19305, 37.39792, 36.92163, 37.56677, 37.28098, 37.52494, 37.07017, 37.78917, 37.50417, 37.62132, 37.06292, 37.8213, 37.54486, 37.66848, 37.05963, 37.8559, 37.50674, 37.5357, 36.996, 37.8045, 37.46982, 37.61553, 37.08352, 37.90387, 37.45044, 37.64305, 37.11498, 37.85144, 37.59823, 37.68461, 36.9923, 37.62249, 37.26176, 37.52755, 36.94674, 37.57489, 37.39112, 37.49518, 36.9745, 37.71929, 37.44486, 37.51865, 37.07966, 37.68587, 37.27839, 37.48292, 37.09901, 37.68533, 37.3277, 37.53752, 37.02802, 37.78777, 37.49287, 37.57427, 36.9665, 37.6836, 37.19852, 37.41049, 36.84112, 37.43752, 37.23783, 37.10964, 36.75257, 37.24539, 36.94905, 37.00466, 36.59505, 37.13027, 36.6252, 36.6902, 36.18656, 36.61395, 36.4767, 36.41617, 35.84462, 36.21359, 35.93754, 35.87058, 35.0415, 34.68863, 41.619, 40.35571, 40.00953, 40.0293, 39.01542, 39.6253, 39.72103, 39.32412, 39.02976, 38.90578, 38.75881, 37.91428], \"yaxis\": \"y\"}, {\"type\": \"scatter\", \"x\": [0, 1, 2, 3, 4, 5, 6, 7, 8, 9, 10, 11, 12, 13, 14, 15, 16, 17, 18, 19, 20, 21, 22, 23, 24, 25, 26, 27, 28, 29, 30, 31, 32, 33, 34, 35, 36, 37, 38, 39, 40, 41, 42, 43, 44, 45, 46, 47, 48, 49, 50, 51, 52, 53, 54, 55, 56, 57, 58, 59, 60, 61, 62, 63, 64, 65, 66, 67, 68, 69, 70, 71, 72, 73, 74, 75, 76, 77, 78, 79, 80, 81, 82, 83, 84, 85, 86, 87, 88, 89, 90, 91, 92, 93, 94, 95, 96, 97, 98, 99, 100, 101, 102, 103, 104, 105, 106, 107, 108, 109, 110, 111, 112, 113, 114, 115, 116, 117, 118, 119, 120, 121, 122, 123, 124, 125, 126, 127, 128, 129, 130, 131, 132, 133, 134, 135, 136, 137, 138, 139, 140, 141, 142, 143, 144, 145, 146, 147, 148, 149, 150, 151, 152, 153, 154, 155, 156, 157, 158, 159, 160, 161, 162, 163, 164, 165, 166, 167, 168, 169, 170, 171, 172, 173, 174, 175, 176, 177, 178, 179, 180, 181, 182, 183, 184, 185, 186, 187, 188, 189, 190, 191, 192, 193, 194, 195, 196, 197, 198, 199, 200, 201, 202, 203, 204, 205, 206, 207, 208, 209, 210, 211, 212, 213, 214, 215, 216, 217, 218, 219, 220, 221, 222, 223, 224, 225, 226, 227, 228, 229, 230, 231, 232, 233, 234, 235, 236, 237, 238, 239], \"xaxis\": \"x2\", \"y\": [0.9788, 0.97903, 0.97857, 0.9785, 0.97729, 0.97843, 0.97838, 0.97827, 0.9768, 0.97828, 0.97817, 0.97843, 0.97667, 0.97817, 0.97826, 0.9766, 0.97855, 0.97855, 0.97871, 0.97761, 0.97931, 0.97879, 0.97963, 0.97788, 0.97932, 0.97949, 0.97968, 0.97891, 0.97997, 0.97988, 0.97982, 0.97901, 0.97995, 0.9799, 0.98013, 0.97932, 0.98069, 0.97989, 0.97959, 0.97797, 0.98002, 0.97947, 0.97936, 0.97842, 0.98056, 0.98051, 0.98087, 0.97981, 0.98097, 0.98068, 0.98077, 0.97984, 0.98061, 0.98022, 0.98068, 0.98001, 0.98077, 0.98038, 0.98035, 0.97977, 0.98053, 0.98038, 0.98065, 0.97981, 0.98038, 0.9803, 0.98028, 0.97953, 0.98036, 0.98003, 0.97984, 0.97932, 0.98035, 0.97982, 0.98031, 0.97973, 0.97995, 0.97882, 0.97801, 0.97869, 0.97686, 0.97501, 0.96994, 0.97345, 0.97251, 0.97182, 0.96796, 0.97114, 0.96948, 0.96985, 0.96507, 0.9691, 0.96794, 0.96775, 0.96398, 0.96777, 0.96666, 0.96723, 0.96302, 0.96784, 0.96716, 0.96688, 0.96255, 0.96655, 0.96632, 0.96622, 0.96217, 0.96692, 0.96565, 0.9662, 0.96204, 0.96654, 0.9647, 0.9652, 0.96142, 0.96606, 0.96483, 0.96451, 0.96075, 0.96581, 0.96463, 0.96464, 0.9608, 0.96556, 0.9651, 0.96499, 0.96067, 0.965, 0.96386, 0.96375, 0.95959, 0.96412, 0.96293, 0.96357, 0.9598, 0.96543, 0.96312, 0.96407, 0.95901, 0.96385, 0.96332, 0.96318, 0.95964, 0.96465, 0.9637, 0.96423, 0.95999, 0.96497, 0.96313, 0.96325, 0.95948, 0.96515, 0.96408, 0.9648, 0.96112, 0.96639, 0.96546, 0.96543, 0.96178, 0.96686, 0.96595, 0.96598, 0.96206, 0.96703, 0.96559, 0.96408, 0.95999, 0.96546, 0.96437, 0.96447, 0.96086, 0.9661, 0.96465, 0.96494, 0.96151, 0.96628, 0.96548, 0.96526, 0.95994, 0.96396, 0.96323, 0.96423, 0.96012, 0.96424, 0.96385, 0.96403, 0.96037, 0.96501, 0.96423, 0.96392, 0.96084, 0.96457, 0.96291, 0.96318, 0.96059, 0.96463, 0.96361, 0.96349, 0.96018, 0.96489, 0.96398, 0.96354, 0.95999, 0.96426, 0.96189, 0.96244, 0.95858, 0.9625, 0.96197, 0.9609, 0.95833, 0.9616, 0.96056, 0.96038, 0.95714, 0.96092, 0.95867, 0.95838, 0.95409, 0.95725, 0.95704, 0.95647, 0.95247, 0.95545, 0.9539, 0.95384, 0.9479, 0.94624, 0.97954, 0.97816, 0.97676, 0.97767, 0.97403, 0.97625, 0.97652, 0.97615, 0.97452, 0.97508, 0.97426, 0.97093], \"yaxis\": \"y2\"}, {\"type\": \"scatter\", \"x\": [0, 1, 2, 3, 4, 5, 6, 7, 8, 9, 10, 11, 12, 13, 14, 15, 16, 17, 18, 19, 20, 21, 22, 23, 24, 25, 26, 27, 28, 29, 30, 31, 32, 33, 34, 35, 36, 37, 38, 39, 40, 41, 42, 43, 44, 45, 46, 47, 48, 49, 50, 51, 52, 53, 54, 55, 56, 57, 58, 59, 60, 61, 62, 63, 64, 65, 66, 67, 68, 69, 70, 71, 72, 73, 74, 75, 76, 77, 78, 79, 80, 81, 82, 83, 84, 85, 86, 87, 88, 89, 90, 91, 92, 93, 94, 95, 96, 97, 98, 99, 100, 101, 102, 103, 104, 105, 106, 107, 108, 109, 110, 111, 112, 113, 114, 115, 116, 117, 118, 119, 120, 121, 122, 123, 124, 125, 126, 127, 128, 129, 130, 131, 132, 133, 134, 135, 136, 137, 138, 139, 140, 141, 142, 143, 144, 145, 146, 147, 148, 149, 150, 151, 152, 153, 154, 155, 156, 157, 158, 159, 160, 161, 162, 163, 164, 165, 166, 167, 168, 169, 170, 171, 172, 173, 174, 175, 176, 177, 178, 179, 180, 181, 182, 183, 184, 185, 186, 187, 188, 189, 190, 191, 192, 193, 194, 195, 196, 197, 198, 199, 200, 201, 202, 203, 204, 205, 206, 207, 208, 209, 210, 211, 212, 213, 214, 215, 216, 217, 218, 219, 220, 221, 222, 223, 224, 225, 226, 227, 228, 229, 230, 231, 232, 233, 234, 235, 236, 237, 238, 239], \"xaxis\": \"x3\", \"y\": [91.45276, 94.70787, 94.52052, 94.90682, 95.14065, 94.93808, 95.22442, 94.97997, 95.86711, 95.27781, 95.71413, 95.66007, 96.47088, 95.65472, 95.26074, 96.84092, 96.07313, 96.94132, 96.96525, 98.26542, 98.15935, 98.46925, 98.18312, 97.41677, 96.89288, 97.08319, 97.04971, 97.5429, 96.33122, 96.61299, 96.64694, 97.32919, 96.81485, 97.14356, 97.47945, 98.10646, 98.2953, 99.08943, 99.08413, 97.47344, 97.85329, 97.63691, 97.53906, 95.54489, 94.67324, 94.93221, 93.71242, 93.07657, 93.24041, 93.46464, 93.34335, 93.44694, 93.34557, 93.15866, 93.28981, 93.41547, 93.14318, 93.05022, 92.08472, 91.93287, 92.12958, 92.47038, 92.21144, 92.02748, 92.00442, 91.70865, 91.6173, 91.39192, 91.72917, 91.27633, 91.01163, 90.81184, 91.0939, 90.48771, 90.83501, 90.99626, 90.92627, 89.60144, 95.91514, 94.89943, 94.2487, 93.58725, 92.94296, 92.93383, 93.03106, 92.64638, 92.93045, 92.49496, 92.41197, 92.47151, 92.77946, 92.80883, 92.17107, 91.9739, 92.19369, 91.98853, 91.87835, 92.19723, 92.23128, 92.12864, 92.09786, 92.18873, 92.31946, 92.15451, 92.27697, 92.23549, 92.35721, 92.12146, 91.7305, 92.07227, 91.96318, 92.13092, 91.51159, 92.00699, 92.13889, 92.11102, 91.9577, 91.80324, 92.32343, 92.18052, 92.0813, 91.91047, 92.08452, 92.2772, 92.05629, 92.11508, 92.15497, 92.18151, 92.02654, 92.26637, 92.29681, 91.9344, 91.24297, 91.79683, 92.03212, 92.07807, 91.24418, 91.58643, 91.80634, 91.95585, 91.97067, 92.09075, 92.12926, 92.16302, 91.97607, 92.10417, 92.11624, 92.28277, 91.69472, 92.05465, 92.33297, 92.26827, 91.68305, 92.13188, 92.56082, 92.59408, 92.33528, 92.38332, 92.38204, 92.43687, 92.1754, 92.14329, 92.15461, 92.21857, 91.9008, 91.9916, 92.15888, 92.39227, 92.05823, 92.0376, 92.26412, 92.30129, 91.62455, 91.85157, 91.96331, 92.00658, 91.84296, 92.0439, 92.30862, 92.18937, 91.61922, 92.05829, 92.03304, 92.31854, 92.28238, 92.25527, 92.0215, 92.04854, 91.7218, 91.81317, 91.98749, 91.82059, 91.3872, 91.98996, 92.15578, 91.5326, 91.11839, 91.2777, 91.48911, 91.86866, 91.56044, 91.67448, 91.32124, 91.71396, 90.95042, 91.46087, 91.27585, 91.28368, 91.12241, 90.77523, 91.02901, 90.76282, 90.69563, 90.44298, 90.71675, 90.70294, 89.71626, 90.1045, 89.93018, 89.91668, 89.82153, 89.36744, 88.67765, 88.90222, 88.32863, 87.83746, 86.44283, 85.16426, 96.13938, 93.6191, 93.71565, 91.89429, 91.3634, 91.21601, 91.92053, 90.36177, 90.35425, 90.33244, 89.32525, 86.69865], \"yaxis\": \"y3\"}],\n",
       "                        {\"annotations\": [{\"font\": {\"size\": 16}, \"showarrow\": false, \"text\": \"psnr\", \"x\": 0.14444444444444446, \"xanchor\": \"center\", \"xref\": \"paper\", \"y\": 1.0, \"yanchor\": \"bottom\", \"yref\": \"paper\"}, {\"font\": {\"size\": 16}, \"showarrow\": false, \"text\": \"ssim\", \"x\": 0.5, \"xanchor\": \"center\", \"xref\": \"paper\", \"y\": 1.0, \"yanchor\": \"bottom\", \"yref\": \"paper\"}, {\"font\": {\"size\": 16}, \"showarrow\": false, \"text\": \"vmaf\", \"x\": 0.8555555555555556, \"xanchor\": \"center\", \"xref\": \"paper\", \"y\": 1.0, \"yanchor\": \"bottom\", \"yref\": \"paper\"}], \"showlegend\": false, \"template\": {\"data\": {\"bar\": [{\"error_x\": {\"color\": \"#2a3f5f\"}, \"error_y\": {\"color\": \"#2a3f5f\"}, \"marker\": {\"line\": {\"color\": \"#E5ECF6\", \"width\": 0.5}}, \"type\": \"bar\"}], \"barpolar\": [{\"marker\": {\"line\": {\"color\": \"#E5ECF6\", \"width\": 0.5}}, \"type\": \"barpolar\"}], \"carpet\": [{\"aaxis\": {\"endlinecolor\": \"#2a3f5f\", \"gridcolor\": \"white\", \"linecolor\": \"white\", \"minorgridcolor\": \"white\", \"startlinecolor\": \"#2a3f5f\"}, \"baxis\": {\"endlinecolor\": \"#2a3f5f\", \"gridcolor\": \"white\", \"linecolor\": \"white\", \"minorgridcolor\": \"white\", \"startlinecolor\": \"#2a3f5f\"}, \"type\": \"carpet\"}], \"choropleth\": [{\"colorbar\": {\"outlinewidth\": 0, \"ticks\": \"\"}, \"type\": \"choropleth\"}], \"contour\": [{\"colorbar\": {\"outlinewidth\": 0, \"ticks\": \"\"}, \"colorscale\": [[0.0, \"#0d0887\"], [0.1111111111111111, \"#46039f\"], [0.2222222222222222, \"#7201a8\"], [0.3333333333333333, \"#9c179e\"], [0.4444444444444444, \"#bd3786\"], [0.5555555555555556, \"#d8576b\"], [0.6666666666666666, \"#ed7953\"], [0.7777777777777778, \"#fb9f3a\"], [0.8888888888888888, \"#fdca26\"], [1.0, \"#f0f921\"]], \"type\": \"contour\"}], \"contourcarpet\": [{\"colorbar\": {\"outlinewidth\": 0, \"ticks\": \"\"}, \"type\": \"contourcarpet\"}], \"heatmap\": [{\"colorbar\": {\"outlinewidth\": 0, \"ticks\": \"\"}, \"colorscale\": [[0.0, \"#0d0887\"], [0.1111111111111111, \"#46039f\"], [0.2222222222222222, \"#7201a8\"], [0.3333333333333333, \"#9c179e\"], [0.4444444444444444, \"#bd3786\"], [0.5555555555555556, \"#d8576b\"], [0.6666666666666666, \"#ed7953\"], [0.7777777777777778, \"#fb9f3a\"], [0.8888888888888888, \"#fdca26\"], [1.0, \"#f0f921\"]], \"type\": \"heatmap\"}], \"heatmapgl\": [{\"colorbar\": {\"outlinewidth\": 0, \"ticks\": \"\"}, \"colorscale\": [[0.0, \"#0d0887\"], [0.1111111111111111, \"#46039f\"], [0.2222222222222222, \"#7201a8\"], [0.3333333333333333, \"#9c179e\"], [0.4444444444444444, \"#bd3786\"], [0.5555555555555556, \"#d8576b\"], [0.6666666666666666, \"#ed7953\"], [0.7777777777777778, \"#fb9f3a\"], [0.8888888888888888, \"#fdca26\"], [1.0, \"#f0f921\"]], \"type\": \"heatmapgl\"}], \"histogram\": [{\"marker\": {\"colorbar\": {\"outlinewidth\": 0, \"ticks\": \"\"}}, \"type\": \"histogram\"}], \"histogram2d\": [{\"colorbar\": {\"outlinewidth\": 0, \"ticks\": \"\"}, \"colorscale\": [[0.0, \"#0d0887\"], [0.1111111111111111, \"#46039f\"], [0.2222222222222222, \"#7201a8\"], [0.3333333333333333, \"#9c179e\"], [0.4444444444444444, \"#bd3786\"], [0.5555555555555556, \"#d8576b\"], [0.6666666666666666, \"#ed7953\"], [0.7777777777777778, \"#fb9f3a\"], [0.8888888888888888, \"#fdca26\"], [1.0, \"#f0f921\"]], \"type\": \"histogram2d\"}], \"histogram2dcontour\": [{\"colorbar\": {\"outlinewidth\": 0, \"ticks\": \"\"}, \"colorscale\": [[0.0, \"#0d0887\"], [0.1111111111111111, \"#46039f\"], [0.2222222222222222, \"#7201a8\"], [0.3333333333333333, \"#9c179e\"], [0.4444444444444444, \"#bd3786\"], [0.5555555555555556, \"#d8576b\"], [0.6666666666666666, \"#ed7953\"], [0.7777777777777778, \"#fb9f3a\"], [0.8888888888888888, \"#fdca26\"], [1.0, \"#f0f921\"]], \"type\": \"histogram2dcontour\"}], \"mesh3d\": [{\"colorbar\": {\"outlinewidth\": 0, \"ticks\": \"\"}, \"type\": \"mesh3d\"}], \"parcoords\": [{\"line\": {\"colorbar\": {\"outlinewidth\": 0, \"ticks\": \"\"}}, \"type\": \"parcoords\"}], \"pie\": [{\"automargin\": true, \"type\": \"pie\"}], \"scatter\": [{\"marker\": {\"colorbar\": {\"outlinewidth\": 0, \"ticks\": \"\"}}, \"type\": \"scatter\"}], \"scatter3d\": [{\"line\": {\"colorbar\": {\"outlinewidth\": 0, \"ticks\": \"\"}}, \"marker\": {\"colorbar\": {\"outlinewidth\": 0, \"ticks\": \"\"}}, \"type\": \"scatter3d\"}], \"scattercarpet\": [{\"marker\": {\"colorbar\": {\"outlinewidth\": 0, \"ticks\": \"\"}}, \"type\": \"scattercarpet\"}], \"scattergeo\": [{\"marker\": {\"colorbar\": {\"outlinewidth\": 0, \"ticks\": \"\"}}, \"type\": \"scattergeo\"}], \"scattergl\": [{\"marker\": {\"colorbar\": {\"outlinewidth\": 0, \"ticks\": \"\"}}, \"type\": \"scattergl\"}], \"scattermapbox\": [{\"marker\": {\"colorbar\": {\"outlinewidth\": 0, \"ticks\": \"\"}}, \"type\": \"scattermapbox\"}], \"scatterpolar\": [{\"marker\": {\"colorbar\": {\"outlinewidth\": 0, \"ticks\": \"\"}}, \"type\": \"scatterpolar\"}], \"scatterpolargl\": [{\"marker\": {\"colorbar\": {\"outlinewidth\": 0, \"ticks\": \"\"}}, \"type\": \"scatterpolargl\"}], \"scatterternary\": [{\"marker\": {\"colorbar\": {\"outlinewidth\": 0, \"ticks\": \"\"}}, \"type\": \"scatterternary\"}], \"surface\": [{\"colorbar\": {\"outlinewidth\": 0, \"ticks\": \"\"}, \"colorscale\": [[0.0, \"#0d0887\"], [0.1111111111111111, \"#46039f\"], [0.2222222222222222, \"#7201a8\"], [0.3333333333333333, \"#9c179e\"], [0.4444444444444444, \"#bd3786\"], [0.5555555555555556, \"#d8576b\"], [0.6666666666666666, \"#ed7953\"], [0.7777777777777778, \"#fb9f3a\"], [0.8888888888888888, \"#fdca26\"], [1.0, \"#f0f921\"]], \"type\": \"surface\"}], \"table\": [{\"cells\": {\"fill\": {\"color\": \"#EBF0F8\"}, \"line\": {\"color\": \"white\"}}, \"header\": {\"fill\": {\"color\": \"#C8D4E3\"}, \"line\": {\"color\": \"white\"}}, \"type\": \"table\"}]}, \"layout\": {\"annotationdefaults\": {\"arrowcolor\": \"#2a3f5f\", \"arrowhead\": 0, \"arrowwidth\": 1}, \"coloraxis\": {\"colorbar\": {\"outlinewidth\": 0, \"ticks\": \"\"}}, \"colorscale\": {\"diverging\": [[0, \"#8e0152\"], [0.1, \"#c51b7d\"], [0.2, \"#de77ae\"], [0.3, \"#f1b6da\"], [0.4, \"#fde0ef\"], [0.5, \"#f7f7f7\"], [0.6, \"#e6f5d0\"], [0.7, \"#b8e186\"], [0.8, \"#7fbc41\"], [0.9, \"#4d9221\"], [1, \"#276419\"]], \"sequential\": [[0.0, \"#0d0887\"], [0.1111111111111111, \"#46039f\"], [0.2222222222222222, \"#7201a8\"], [0.3333333333333333, \"#9c179e\"], [0.4444444444444444, \"#bd3786\"], [0.5555555555555556, \"#d8576b\"], [0.6666666666666666, \"#ed7953\"], [0.7777777777777778, \"#fb9f3a\"], [0.8888888888888888, \"#fdca26\"], [1.0, \"#f0f921\"]], \"sequentialminus\": [[0.0, \"#0d0887\"], [0.1111111111111111, \"#46039f\"], [0.2222222222222222, \"#7201a8\"], [0.3333333333333333, \"#9c179e\"], [0.4444444444444444, \"#bd3786\"], [0.5555555555555556, \"#d8576b\"], [0.6666666666666666, \"#ed7953\"], [0.7777777777777778, \"#fb9f3a\"], [0.8888888888888888, \"#fdca26\"], [1.0, \"#f0f921\"]]}, \"colorway\": [\"#636efa\", \"#EF553B\", \"#00cc96\", \"#ab63fa\", \"#FFA15A\", \"#19d3f3\", \"#FF6692\", \"#B6E880\", \"#FF97FF\", \"#FECB52\"], \"font\": {\"color\": \"#2a3f5f\"}, \"geo\": {\"bgcolor\": \"white\", \"lakecolor\": \"white\", \"landcolor\": \"#E5ECF6\", \"showlakes\": true, \"showland\": true, \"subunitcolor\": \"white\"}, \"hoverlabel\": {\"align\": \"left\"}, \"hovermode\": \"closest\", \"mapbox\": {\"style\": \"light\"}, \"paper_bgcolor\": \"white\", \"plot_bgcolor\": \"#E5ECF6\", \"polar\": {\"angularaxis\": {\"gridcolor\": \"white\", \"linecolor\": \"white\", \"ticks\": \"\"}, \"bgcolor\": \"#E5ECF6\", \"radialaxis\": {\"gridcolor\": \"white\", \"linecolor\": \"white\", \"ticks\": \"\"}}, \"scene\": {\"xaxis\": {\"backgroundcolor\": \"#E5ECF6\", \"gridcolor\": \"white\", \"gridwidth\": 2, \"linecolor\": \"white\", \"showbackground\": true, \"ticks\": \"\", \"zerolinecolor\": \"white\"}, \"yaxis\": {\"backgroundcolor\": \"#E5ECF6\", \"gridcolor\": \"white\", \"gridwidth\": 2, \"linecolor\": \"white\", \"showbackground\": true, \"ticks\": \"\", \"zerolinecolor\": \"white\"}, \"zaxis\": {\"backgroundcolor\": \"#E5ECF6\", \"gridcolor\": \"white\", \"gridwidth\": 2, \"linecolor\": \"white\", \"showbackground\": true, \"ticks\": \"\", \"zerolinecolor\": \"white\"}}, \"shapedefaults\": {\"line\": {\"color\": \"#2a3f5f\"}}, \"ternary\": {\"aaxis\": {\"gridcolor\": \"white\", \"linecolor\": \"white\", \"ticks\": \"\"}, \"baxis\": {\"gridcolor\": \"white\", \"linecolor\": \"white\", \"ticks\": \"\"}, \"bgcolor\": \"#E5ECF6\", \"caxis\": {\"gridcolor\": \"white\", \"linecolor\": \"white\", \"ticks\": \"\"}}, \"title\": {\"x\": 0.05}, \"xaxis\": {\"automargin\": true, \"gridcolor\": \"white\", \"linecolor\": \"white\", \"ticks\": \"\", \"title\": {\"standoff\": 15}, \"zerolinecolor\": \"white\", \"zerolinewidth\": 2}, \"yaxis\": {\"automargin\": true, \"gridcolor\": \"white\", \"linecolor\": \"white\", \"ticks\": \"\", \"title\": {\"standoff\": 15}, \"zerolinecolor\": \"white\", \"zerolinewidth\": 2}}}, \"xaxis\": {\"anchor\": \"y\", \"domain\": [0.0, 0.2888888888888889]}, \"xaxis2\": {\"anchor\": \"y2\", \"domain\": [0.35555555555555557, 0.6444444444444445]}, \"xaxis3\": {\"anchor\": \"y3\", \"domain\": [0.7111111111111111, 1.0]}, \"yaxis\": {\"anchor\": \"x\", \"domain\": [0.0, 1.0]}, \"yaxis2\": {\"anchor\": \"x2\", \"domain\": [0.0, 1.0]}, \"yaxis3\": {\"anchor\": \"x3\", \"domain\": [0.0, 1.0]}},\n",
       "                        {\"responsive\": true}\n",
       "                    ).then(function(){\n",
       "                            \n",
       "var gd = document.getElementById('bd17cd33-42fc-47df-847f-e950f5d127eb');\n",
       "var x = new MutationObserver(function (mutations, observer) {{\n",
       "        var display = window.getComputedStyle(gd).display;\n",
       "        if (!display || display === 'none') {{\n",
       "            console.log([gd, 'removed!']);\n",
       "            Plotly.purge(gd);\n",
       "            observer.disconnect();\n",
       "        }}\n",
       "}});\n",
       "\n",
       "// Listen for the removal of the full notebook cells\n",
       "var notebookContainer = gd.closest('#notebook-container');\n",
       "if (notebookContainer) {{\n",
       "    x.observe(notebookContainer, {childList: true});\n",
       "}}\n",
       "\n",
       "// Listen for the clearing of the current output cell\n",
       "var outputEl = gd.closest('.output');\n",
       "if (outputEl) {{\n",
       "    x.observe(outputEl, {childList: true});\n",
       "}}\n",
       "\n",
       "                        })\n",
       "                };\n",
       "                });\n",
       "            </script>\n",
       "        </div>"
      ]
     },
     "metadata": {},
     "output_type": "display_data"
    }
   ],
   "source": [
    "# Plot the per frame PSNR/SSIM/VMAF.\n",
    "\n",
    "import json\n",
    "with open(metric_log) as f:\n",
    "  data = json.load(f)\n",
    "\n",
    "metric_dict = {\n",
    "    'index': list(range(len(data['frames']))),\n",
    "    'psnr': [f['metrics']['psnr'] for f in data['frames']],\n",
    "    'ssim': [f['metrics']['ssim'] for f in data['frames']],\n",
    "    'vmaf': [f['metrics']['vmaf'] for f in data['frames']]\n",
    "}\n",
    "\n",
    "from plotly.subplots import make_subplots\n",
    "import plotly.graph_objects as go\n",
    "\n",
    "fig = make_subplots(rows=1, cols=3, subplot_titles=['psnr', 'ssim', 'vmaf'])\n",
    "\n",
    "fig.add_trace(\n",
    "    go.Scatter(x=metric_dict['index'], y=metric_dict['psnr']),\n",
    "    row=1, col=1\n",
    ")\n",
    "fig.add_trace(\n",
    "    go.Scatter(x=metric_dict['index'], y=metric_dict['ssim']),\n",
    "    row=1, col=2\n",
    ")\n",
    "fig.add_trace(\n",
    "    go.Scatter(x=metric_dict['index'], y=metric_dict['vmaf']),\n",
    "    row=1, col=3\n",
    ")\n",
    "fig.update_layout(showlegend=False)\n",
    "fig.show()\n"
   ]
  },
  {
   "cell_type": "code",
   "execution_count": 30,
   "metadata": {
    "scrolled": false
   },
   "outputs": [
    {
     "data": {
      "text/html": [
       "\n",
       "<h3>Visual comparison at frame 80</h3>\n",
       "<img src='source.png?foo=0.130786'></img>\n",
       "<img src='compressed.png?foo=0.130786'></img>"
      ],
      "text/plain": [
       "<IPython.core.display.HTML object>"
      ]
     },
     "execution_count": 30,
     "metadata": {},
     "output_type": "execute_result"
    }
   ],
   "source": [
    "# Specify a frame index and show the source and compressed frames side by side.\n",
    "# Frame number range for the sample video: [0, 239].\n",
    "# To see a different frame, update frame_index and re-run the cell.\n",
    "\n",
    "frame_index = 80 # Starting from 0\n",
    "\n",
    "!ffmpeg -v error -i {input_file} -vf select=\"eq(n\\,{frame_index+1})\" -frames:v 1 -y source.png\n",
    "!ffmpeg -v error -i {output_file} -vf select=\"eq(n\\,{frame_index+1})\" -frames:v 1 -y compressed.png\n",
    "\n",
    "from IPython.display import HTML\n",
    "import random\n",
    "refresh = random.random()\n",
    "HTML(\"\"\"\n",
    "<h3>Visual comparison at frame %d</h3>\n",
    "<img src='source.png?foo=%f'></img>\n",
    "<img src='compressed.png?foo=%f'></img>\"\"\" % (frame_index, refresh, refresh))"
   ]
  },
  {
   "cell_type": "code",
   "execution_count": 29,
   "metadata": {
    "scrolled": true
   },
   "outputs": [
    {
     "data": {
      "text/html": [
       "\n",
       "<h3>Visualize motion vectors</h3>\n",
       "<video src='mv.mp4' loop controls autoplay/>\n"
      ],
      "text/plain": [
       "<IPython.core.display.HTML object>"
      ]
     },
     "execution_count": 29,
     "metadata": {},
     "output_type": "execute_result"
    }
   ],
   "source": [
    "# Use the 'codecview' filter to visualize motion vectors. \n",
    "# More details: https://ffmpeg.org/ffmpeg-filters.html#codecview\n",
    "#\n",
    "!ffmpeg -v error -flags2 +export_mvs -i {output_file} -vf codecview=mv=pf+bf+bb -y mv.mp4\n",
    "\n",
    "HTML('''\n",
    "<h3>Visualize motion vectors</h3>\n",
    "<video src='mv.mp4' loop controls autoplay/>\n",
    "''')"
   ]
  },
  {
   "cell_type": "code",
   "execution_count": null,
   "metadata": {},
   "outputs": [],
   "source": []
  }
 ],
 "metadata": {
  "kernelspec": {
   "display_name": "Python 3",
   "language": "python",
   "name": "python3"
  },
  "language_info": {
   "codemirror_mode": {
    "name": "ipython",
    "version": 3
   },
   "file_extension": ".py",
   "mimetype": "text/x-python",
   "name": "python",
   "nbconvert_exporter": "python",
   "pygments_lexer": "ipython3",
   "version": "3.7.7"
  }
 },
 "nbformat": 4,
 "nbformat_minor": 4
}
